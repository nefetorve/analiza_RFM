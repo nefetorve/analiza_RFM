{
 "cells": [
  {
   "cell_type": "markdown",
   "metadata": {},
   "source": [
    "![](AnalizaRFM.png)"
   ]
  },
  {
   "cell_type": "markdown",
   "metadata": {},
   "source": [
    "# 1. Wstęp\n",
    "\n",
    "![](wstep.png)\n",
    "\n",
    "Niniejszy projekt koncentruje się na przeprowadzeniu analizy danych. Użyta zostanie metoda RFM z pomocą, której gospodarstwa zostaną podzieleni na grupy.\n",
    "   \n",
    "**Wskaźnik RFM** (Recency, Frequency, Monetary) jest jednym z najbardziej popularnych narzędzi służącym do wartościowania klientów na podstawie ich wcześniejszych zakupów w branży detalicznej. Jest ono szczególnie wykorzystywane przez marketerów, którzy zajmują się marketingiem bezpośrednim. Dzięki niemu mogą określić wartość klienta. Analiza RFM ma swoje źródło w technikach z lat 60 i 70 ubieglego wieku. Analizę RFM warto stosować, ponieważ jest to względnie jedna z najłatwiejszych metod obliczenia wartości klienta, a pomimo tego pozwala usprawnić  przyszłe działania marketingowe. Analiza RFM jest więc jednym z łatwiejszych sposobów na segmentacje danych o klientach, szczególnie przydatnych w przypadku braku doświadczenia z takim zagadnieniem.\n",
    "\n",
    "\n",
    "- **Recency** - jest wskaźnikiem obliczanym jako ilość czasu upłyniętego od ostatniego zakupu/interakcji,\n",
    "- **Frequency** - jest wskaźnikiem obliczanym jako okres czasu od najwcześniejszego zakupu podzielony przez ilość zakupów (czasem obliczany jako całkowita liczba zakupów przez cały czas).\n",
    "- **Monetary** - jest wskaźnikiem, który określa całkowitą wielkość wydanych pieniędzy przez klienta (lepszą zmienną jest średnia ilość pieniędzy wydanych na każde zamówienie).\n",
    "\n"
   ]
  },
  {
   "cell_type": "markdown",
   "metadata": {},
   "source": [
    "# 2. Cel projektu"
   ]
  },
  {
   "cell_type": "markdown",
   "metadata": {},
   "source": [
    "![](cele.png)\n",
    "    \n",
    " - Głównym celem projektu jest przeprowadzenie analizy RFM.\n",
    "   \n",
    " - Celem szczegółowym jest wykonanie analizy zbioru, grupowania transakcji i wyciąganie na ich podstawie wniosków, potrzebnych do powiększenia zysku ze sprzedaży danej firmy. "
   ]
  },
  {
   "cell_type": "markdown",
   "metadata": {},
   "source": [
    "# 3.  Założenia dotyczące projektu\n",
    "\n",
    "![](strategia.png)\n",
    "\n",
    "\n",
    "- wykorzystane zostaną dane z książki: \"*Data analysis Using SQL and Exel*\" autorstwa Gordona S. Linoff-a\n",
    "- stworzenie funkcji do przeprowadzenia analizy RFM dla dowolnego zakresu danych\n",
    "- progi dla wartości są automatyczne generowane na podstawie kwantyli 0.2,0.4,0.6,0.8 w danym zakresie danych \n",
    "- zostaną obliczone następujące wskaźniki:           \n",
    "    - **Recency (R)** - liczba dni od ostatniego zakupu,       \n",
    "    - **Frequency (F)** - liczba dni od najwcześniejszego zakupu podzielony przez ilość zakupów,\n",
    "    - **Monetary (M)** - średnia ilość pieniędzy wydanych przez gospodarstwa.  \n",
    "- stworzenie szczegółowej tabeli dla wartości R, F i M oraz podzielić otrzymane dane na równe zakresy poprzez zastosowanie kwantyli. \n",
    "- ocenienie gospodarstw pod względem R,F i M w skali od 1 do 5, gdzie:    \n",
    "    - **dla R i F** wartość 1 jest najlepszym wynikiem (oczekiwanym), a wartość 5 jest najgorszym wynikiem\n",
    "    - **Dla M** wartość 5 jest najlepszym wynikiem(oczekiwanym), a wartość 1 jest najgorszym wynikiem  \n",
    "- ocena wartości RF dla gospodarstw oraz nadanie rodzaju klienta\n",
    "- stworzenie macierzy RF z przypisanymi rodzajami klientów\n",
    "- stworzenie list dla każdej grupy klientów w celu szybkiego policzenia liczby takich klientów\n",
    "- sprawdzić jakie towary są  najczęściej brane przez daną grupę klientów (np. najlepsi klienci)\n",
    "- jako datę graniczną (*cutoff date*) przyjmiemy 01 stycznia 2016 (zamówienia po tej dacie będą ignorowane)\n",
    "- porównanie R,F i M dla lat 2014-2016\n",
    "- analiza gospodarstw domowych pod względem kategorii klientów uwzględniając poszczególne lata, migracje klientów \n",
    "   \n",
    "  "
   ]
  },
  {
   "cell_type": "markdown",
   "metadata": {},
   "source": [
    "# 4. Wzory dla obliczeń matematycznych"
   ]
  },
  {
   "cell_type": "markdown",
   "metadata": {},
   "source": [
    "## A. Obliczenie kwantyli   \n",
    "    \n",
    "**Wzór dla pierwszego kwantyla:**\n",
    "\n",
    "## $Q_{1} = x_{0m} + \\frac{\\frac{n}{5} - \\sum_{i-1}^{m-1}n_{i}}{n_{m}} * h$        \n",
    "\n",
    "\n",
    "\n",
    "\n",
    "**Wzór dla drugiego kwantyla**\n",
    "\n",
    "## $Q_{2} = x_{0m} + \\frac{\\frac{2n}{5} - \\sum_{i-1}^{m-1}n_{i}}{n_{m}} * h$\n",
    "\n",
    "**Wzór dla trzeciego kwantyla:**\n",
    "\n",
    "## $Q_{3} = x_{0m} + \\frac{\\frac{3n}{5} - \\sum_{i-1}^{m-1}n_{i}}{n_{m}} * h$\n",
    "\n",
    "**Wzór dla czwartego kwantyla:**\n",
    "\n",
    "## $Q_{4} = x_{0m} + \\frac{\\frac{4n}{5} - \\sum_{i-1}^{m-1}n_{i}}{n_{m}} * h$\n",
    "\n",
    "\n",
    "    \n",
    "## A.1. **Legenda:**     \n",
    "\n",
    "## $x_{0m}  - dolna \\qquad granica \\qquad  mediany$\n",
    "\n",
    "## $n_{m}- liczebność \\qquad klasy \\qquad mediany$ \n",
    "\n",
    "## $h  -  interwał, \\qquad czyli \\qquad rozpiętość \\qquad klasy$\n",
    "## $\\sum_{i-1}^{m-1}n_{i}$\n",
    "- liczebność  skumulowana  do klasy  poprzedzającej klasę  kwartyla poprzedniego"
   ]
  },
  {
   "cell_type": "markdown",
   "metadata": {},
   "source": [
    "# 5.  Wczytanie niezbędnych bibliotek, odczyt danych oraz stworzenie wymaganych funkcji"
   ]
  },
  {
   "cell_type": "code",
   "execution_count": 1,
   "metadata": {},
   "outputs": [],
   "source": [
    "import pandas as pd\n",
    "import seaborn as sn\n",
    "import numpy as np\n",
    "from datetime import date, timedelta\n",
    "import matplotlib.pyplot as plt\n",
    "from mpl_toolkits.mplot3d import Axes3D\n",
    "import re"
   ]
  },
  {
   "cell_type": "code",
   "execution_count": 2,
   "metadata": {},
   "outputs": [],
   "source": [
    "granice_kwantyli = [0.2,0.4,0.6,0.8]\n",
    "rzad_kwantyli = np.round(np.arange(0, 1.05, 0.05), 2)"
   ]
  },
  {
   "cell_type": "code",
   "execution_count": 3,
   "metadata": {},
   "outputs": [],
   "source": [
    "def kwantyle_wykres(kwantyle):\n",
    "    fig= plt.figure()\n",
    "    punkty_x = []\n",
    "    punkty_y = []\n",
    "    for k in granice_kwantyli:\n",
    "        punkty_x.append(kwantyle[k])\n",
    "        punkty_y.append(k)\n",
    "    plt.plot(kwantyle.values,kwantyle.index)\n",
    "    plt.plot(punkty_x, punkty_y, \"ro\", marker=\"o\")\n",
    "    plt.grid(b = True)\n",
    "    for i in range(0, len(punkty_x)):\n",
    "        plt.text(punkty_x[i], punkty_y[i]-0.05, \"{}\".format(int(punkty_x[i])))\n"
   ]
  },
  {
   "cell_type": "code",
   "execution_count": 4,
   "metadata": {},
   "outputs": [],
   "source": [
    "def kwantyle_wykres_ax(kwantyle,ax,title=None):\n",
    "\n",
    "    punkty_x = []\n",
    "    punkty_y = []\n",
    "    for k in granice_kwantyli:\n",
    "        punkty_x.append(kwantyle[k])\n",
    "        punkty_y.append(k)\n",
    "    ax.plot(kwantyle.values,kwantyle.index)\n",
    "    ax.plot(punkty_x, punkty_y, \"ro\", marker=\"o\")\n",
    "    ax.grid(b = True)\n",
    "    if title is not None:\n",
    "        ax.title.set_text(title)\n",
    "    for i in range(0, len(punkty_x)):\n",
    "        ax.text(punkty_x[i], punkty_y[i]-0.05, \"{}\".format(int(punkty_x[i])))"
   ]
  },
  {
   "cell_type": "code",
   "execution_count": 5,
   "metadata": {},
   "outputs": [],
   "source": [
    "def ustaw_poziomy(dane,nazwa_kolumny,kwantyle): \n",
    "    dane['wartosc'] = 1\n",
    "    next_value = 2\n",
    "    for k in granice_kwantyli:\n",
    "        dane.loc[dane[nazwa_kolumny] >= kwantyle[k], 'wartosc'] = next_value\n",
    "        next_value += 1"
   ]
  },
  {
   "cell_type": "code",
   "execution_count": 6,
   "metadata": {},
   "outputs": [
    {
     "data": {
      "text/html": [
       "<div>\n",
       "<style scoped>\n",
       "    .dataframe tbody tr th:only-of-type {\n",
       "        vertical-align: middle;\n",
       "    }\n",
       "\n",
       "    .dataframe tbody tr th {\n",
       "        vertical-align: top;\n",
       "    }\n",
       "\n",
       "    .dataframe thead th {\n",
       "        text-align: right;\n",
       "    }\n",
       "</style>\n",
       "<table border=\"1\" class=\"dataframe\">\n",
       "  <thead>\n",
       "    <tr style=\"text-align: right;\">\n",
       "      <th></th>\n",
       "      <th>campaignid</th>\n",
       "      <th>campaignname</th>\n",
       "      <th>channel</th>\n",
       "      <th>discount</th>\n",
       "      <th>freeshippingflag</th>\n",
       "    </tr>\n",
       "  </thead>\n",
       "  <tbody>\n",
       "    <tr>\n",
       "      <th>0</th>\n",
       "      <td>2001</td>\n",
       "      <td>NaN</td>\n",
       "      <td>PARTNER</td>\n",
       "      <td>0</td>\n",
       "      <td>N</td>\n",
       "    </tr>\n",
       "    <tr>\n",
       "      <th>1</th>\n",
       "      <td>2002</td>\n",
       "      <td>NaN</td>\n",
       "      <td>AD</td>\n",
       "      <td>0</td>\n",
       "      <td>N</td>\n",
       "    </tr>\n",
       "    <tr>\n",
       "      <th>2</th>\n",
       "      <td>2003</td>\n",
       "      <td>NaN</td>\n",
       "      <td>PARTNER</td>\n",
       "      <td>0</td>\n",
       "      <td>N</td>\n",
       "    </tr>\n",
       "    <tr>\n",
       "      <th>3</th>\n",
       "      <td>2004</td>\n",
       "      <td>NaN</td>\n",
       "      <td>PARTNER</td>\n",
       "      <td>0</td>\n",
       "      <td>N</td>\n",
       "    </tr>\n",
       "    <tr>\n",
       "      <th>4</th>\n",
       "      <td>2005</td>\n",
       "      <td>NaN</td>\n",
       "      <td>PARTNER</td>\n",
       "      <td>0</td>\n",
       "      <td>N</td>\n",
       "    </tr>\n",
       "  </tbody>\n",
       "</table>\n",
       "</div>"
      ],
      "text/plain": [
       "   campaignid  campaignname  channel  discount freeshippingflag\n",
       "0        2001           NaN  PARTNER         0                N\n",
       "1        2002           NaN       AD         0                N\n",
       "2        2003           NaN  PARTNER         0                N\n",
       "3        2004           NaN  PARTNER         0                N\n",
       "4        2005           NaN  PARTNER         0                N"
      ]
     },
     "execution_count": 6,
     "metadata": {},
     "output_type": "execute_result"
    }
   ],
   "source": [
    "campaign = pd.read_csv(\"dane/campaign.txt\", sep=\"\\t\", encoding=\"latin1\")\n",
    "campaign.head()"
   ]
  },
  {
   "cell_type": "code",
   "execution_count": 7,
   "metadata": {},
   "outputs": [
    {
     "data": {
      "text/html": [
       "<div>\n",
       "<style scoped>\n",
       "    .dataframe tbody tr th:only-of-type {\n",
       "        vertical-align: middle;\n",
       "    }\n",
       "\n",
       "    .dataframe tbody tr th {\n",
       "        vertical-align: top;\n",
       "    }\n",
       "\n",
       "    .dataframe thead th {\n",
       "        text-align: right;\n",
       "    }\n",
       "</style>\n",
       "<table border=\"1\" class=\"dataframe\">\n",
       "  <thead>\n",
       "    <tr style=\"text-align: right;\">\n",
       "      <th></th>\n",
       "      <th>DATE</th>\n",
       "      <th>ISO</th>\n",
       "      <th>datenum</th>\n",
       "      <th>DOW</th>\n",
       "      <th>dowint</th>\n",
       "      <th>Year</th>\n",
       "      <th>Month</th>\n",
       "      <th>dom</th>\n",
       "      <th>monthstr</th>\n",
       "      <th>doy</th>\n",
       "      <th>...</th>\n",
       "      <th>numholidays</th>\n",
       "      <th>holidayname</th>\n",
       "      <th>holidaytype</th>\n",
       "      <th>national</th>\n",
       "      <th>minor</th>\n",
       "      <th>christian</th>\n",
       "      <th>jewish</th>\n",
       "      <th>muslim</th>\n",
       "      <th>chinese</th>\n",
       "      <th>other</th>\n",
       "    </tr>\n",
       "  </thead>\n",
       "  <tbody>\n",
       "    <tr>\n",
       "      <th>0</th>\n",
       "      <td>1950-01-01 00:00:00</td>\n",
       "      <td>1950-01-01</td>\n",
       "      <td>18264</td>\n",
       "      <td>Sun</td>\n",
       "      <td>1</td>\n",
       "      <td>1950</td>\n",
       "      <td>1</td>\n",
       "      <td>1</td>\n",
       "      <td>Jan</td>\n",
       "      <td>1</td>\n",
       "      <td>...</td>\n",
       "      <td>1</td>\n",
       "      <td>New Year's Day</td>\n",
       "      <td>national</td>\n",
       "      <td>New Year's Day</td>\n",
       "      <td>NaN</td>\n",
       "      <td>NaN</td>\n",
       "      <td>NaN</td>\n",
       "      <td>NaN</td>\n",
       "      <td>NaN</td>\n",
       "      <td>NaN</td>\n",
       "    </tr>\n",
       "    <tr>\n",
       "      <th>1</th>\n",
       "      <td>1950-01-02 00:00:00</td>\n",
       "      <td>1950-01-02</td>\n",
       "      <td>18265</td>\n",
       "      <td>Mon</td>\n",
       "      <td>2</td>\n",
       "      <td>1950</td>\n",
       "      <td>1</td>\n",
       "      <td>2</td>\n",
       "      <td>Jan</td>\n",
       "      <td>2</td>\n",
       "      <td>...</td>\n",
       "      <td>0</td>\n",
       "      <td>NaN</td>\n",
       "      <td>NaN</td>\n",
       "      <td>NaN</td>\n",
       "      <td>NaN</td>\n",
       "      <td>NaN</td>\n",
       "      <td>NaN</td>\n",
       "      <td>NaN</td>\n",
       "      <td>NaN</td>\n",
       "      <td>NaN</td>\n",
       "    </tr>\n",
       "    <tr>\n",
       "      <th>2</th>\n",
       "      <td>1950-01-03 00:00:00</td>\n",
       "      <td>1950-01-03</td>\n",
       "      <td>18266</td>\n",
       "      <td>Tue</td>\n",
       "      <td>3</td>\n",
       "      <td>1950</td>\n",
       "      <td>1</td>\n",
       "      <td>3</td>\n",
       "      <td>Jan</td>\n",
       "      <td>3</td>\n",
       "      <td>...</td>\n",
       "      <td>0</td>\n",
       "      <td>NaN</td>\n",
       "      <td>NaN</td>\n",
       "      <td>NaN</td>\n",
       "      <td>NaN</td>\n",
       "      <td>NaN</td>\n",
       "      <td>NaN</td>\n",
       "      <td>NaN</td>\n",
       "      <td>NaN</td>\n",
       "      <td>NaN</td>\n",
       "    </tr>\n",
       "    <tr>\n",
       "      <th>3</th>\n",
       "      <td>1950-01-04 00:00:00</td>\n",
       "      <td>1950-01-04</td>\n",
       "      <td>18267</td>\n",
       "      <td>Wed</td>\n",
       "      <td>4</td>\n",
       "      <td>1950</td>\n",
       "      <td>1</td>\n",
       "      <td>4</td>\n",
       "      <td>Jan</td>\n",
       "      <td>4</td>\n",
       "      <td>...</td>\n",
       "      <td>0</td>\n",
       "      <td>NaN</td>\n",
       "      <td>NaN</td>\n",
       "      <td>NaN</td>\n",
       "      <td>NaN</td>\n",
       "      <td>NaN</td>\n",
       "      <td>NaN</td>\n",
       "      <td>NaN</td>\n",
       "      <td>NaN</td>\n",
       "      <td>NaN</td>\n",
       "    </tr>\n",
       "    <tr>\n",
       "      <th>4</th>\n",
       "      <td>1950-01-05 00:00:00</td>\n",
       "      <td>1950-01-05</td>\n",
       "      <td>18268</td>\n",
       "      <td>Thu</td>\n",
       "      <td>5</td>\n",
       "      <td>1950</td>\n",
       "      <td>1</td>\n",
       "      <td>5</td>\n",
       "      <td>Jan</td>\n",
       "      <td>5</td>\n",
       "      <td>...</td>\n",
       "      <td>0</td>\n",
       "      <td>NaN</td>\n",
       "      <td>NaN</td>\n",
       "      <td>NaN</td>\n",
       "      <td>NaN</td>\n",
       "      <td>NaN</td>\n",
       "      <td>NaN</td>\n",
       "      <td>NaN</td>\n",
       "      <td>NaN</td>\n",
       "      <td>NaN</td>\n",
       "    </tr>\n",
       "  </tbody>\n",
       "</table>\n",
       "<p>5 rows × 27 columns</p>\n",
       "</div>"
      ],
      "text/plain": [
       "                  DATE         ISO  datenum  DOW  dowint  Year  Month  dom  \\\n",
       "0  1950-01-01 00:00:00  1950-01-01    18264  Sun       1  1950      1    1   \n",
       "1  1950-01-02 00:00:00  1950-01-02    18265  Mon       2  1950      1    2   \n",
       "2  1950-01-03 00:00:00  1950-01-03    18266  Tue       3  1950      1    3   \n",
       "3  1950-01-04 00:00:00  1950-01-04    18267  Wed       4  1950      1    4   \n",
       "4  1950-01-05 00:00:00  1950-01-05    18268  Thu       5  1950      1    5   \n",
       "\n",
       "  monthstr  doy  ...  numholidays     holidayname  holidaytype  \\\n",
       "0      Jan    1  ...            1  New Year's Day     national   \n",
       "1      Jan    2  ...            0             NaN          NaN   \n",
       "2      Jan    3  ...            0             NaN          NaN   \n",
       "3      Jan    4  ...            0             NaN          NaN   \n",
       "4      Jan    5  ...            0             NaN          NaN   \n",
       "\n",
       "         national  minor  christian  jewish  muslim chinese other  \n",
       "0  New Year's Day    NaN        NaN     NaN     NaN     NaN   NaN  \n",
       "1             NaN    NaN        NaN     NaN     NaN     NaN   NaN  \n",
       "2             NaN    NaN        NaN     NaN     NaN     NaN   NaN  \n",
       "3             NaN    NaN        NaN     NaN     NaN     NaN   NaN  \n",
       "4             NaN    NaN        NaN     NaN     NaN     NaN   NaN  \n",
       "\n",
       "[5 rows x 27 columns]"
      ]
     },
     "execution_count": 7,
     "metadata": {},
     "output_type": "execute_result"
    }
   ],
   "source": [
    "calendar = pd.read_csv(\"dane/calendar.txt\", sep=\"\\t\", encoding=\"latin1\")\n",
    "calendar.head()"
   ]
  },
  {
   "cell_type": "code",
   "execution_count": 8,
   "metadata": {},
   "outputs": [
    {
     "data": {
      "text/html": [
       "<div>\n",
       "<style scoped>\n",
       "    .dataframe tbody tr th:only-of-type {\n",
       "        vertical-align: middle;\n",
       "    }\n",
       "\n",
       "    .dataframe tbody tr th {\n",
       "        vertical-align: top;\n",
       "    }\n",
       "\n",
       "    .dataframe thead th {\n",
       "        text-align: right;\n",
       "    }\n",
       "</style>\n",
       "<table border=\"1\" class=\"dataframe\">\n",
       "  <thead>\n",
       "    <tr style=\"text-align: right;\">\n",
       "      <th></th>\n",
       "      <th>customerid</th>\n",
       "      <th>householdid</th>\n",
       "      <th>gender</th>\n",
       "      <th>firstname</th>\n",
       "    </tr>\n",
       "  </thead>\n",
       "  <tbody>\n",
       "    <tr>\n",
       "      <th>0</th>\n",
       "      <td>174596</td>\n",
       "      <td>53949999</td>\n",
       "      <td>M</td>\n",
       "      <td>DANIEL</td>\n",
       "    </tr>\n",
       "    <tr>\n",
       "      <th>1</th>\n",
       "      <td>68239</td>\n",
       "      <td>49927024</td>\n",
       "      <td>M</td>\n",
       "      <td>JIM</td>\n",
       "    </tr>\n",
       "    <tr>\n",
       "      <th>2</th>\n",
       "      <td>10203</td>\n",
       "      <td>20914414</td>\n",
       "      <td>F</td>\n",
       "      <td>DONNA</td>\n",
       "    </tr>\n",
       "    <tr>\n",
       "      <th>3</th>\n",
       "      <td>174288</td>\n",
       "      <td>53957047</td>\n",
       "      <td>F</td>\n",
       "      <td>DIONE</td>\n",
       "    </tr>\n",
       "    <tr>\n",
       "      <th>4</th>\n",
       "      <td>68099</td>\n",
       "      <td>49927024</td>\n",
       "      <td>M</td>\n",
       "      <td>JIM</td>\n",
       "    </tr>\n",
       "  </tbody>\n",
       "</table>\n",
       "</div>"
      ],
      "text/plain": [
       "   customerid  householdid gender firstname\n",
       "0      174596     53949999      M    DANIEL\n",
       "1       68239     49927024      M       JIM\n",
       "2       10203     20914414      F     DONNA\n",
       "3      174288     53957047      F     DIONE\n",
       "4       68099     49927024      M       JIM"
      ]
     },
     "execution_count": 8,
     "metadata": {},
     "output_type": "execute_result"
    }
   ],
   "source": [
    "customer = pd.read_csv(\"dane/customer.txt\", sep=\"\\t\", encoding=\"latin1\")\n",
    "customer.head()"
   ]
  },
  {
   "cell_type": "code",
   "execution_count": 9,
   "metadata": {},
   "outputs": [
    {
     "data": {
      "text/html": [
       "<div>\n",
       "<style scoped>\n",
       "    .dataframe tbody tr th:only-of-type {\n",
       "        vertical-align: middle;\n",
       "    }\n",
       "\n",
       "    .dataframe tbody tr th {\n",
       "        vertical-align: top;\n",
       "    }\n",
       "\n",
       "    .dataframe thead th {\n",
       "        text-align: right;\n",
       "    }\n",
       "</style>\n",
       "<table border=\"1\" class=\"dataframe\">\n",
       "  <thead>\n",
       "    <tr style=\"text-align: right;\">\n",
       "      <th></th>\n",
       "      <th>orderlineid</th>\n",
       "      <th>orderid</th>\n",
       "      <th>productid</th>\n",
       "      <th>shipdate</th>\n",
       "      <th>billdate</th>\n",
       "      <th>unitprice</th>\n",
       "      <th>numunits</th>\n",
       "      <th>totalprice</th>\n",
       "    </tr>\n",
       "  </thead>\n",
       "  <tbody>\n",
       "    <tr>\n",
       "      <th>0</th>\n",
       "      <td>1010561</td>\n",
       "      <td>1006414</td>\n",
       "      <td>10834</td>\n",
       "      <td>2011-03-07 00:00:00</td>\n",
       "      <td>2011-03-08 00:00:00</td>\n",
       "      <td>18.00</td>\n",
       "      <td>1</td>\n",
       "      <td>18.00</td>\n",
       "    </tr>\n",
       "    <tr>\n",
       "      <th>1</th>\n",
       "      <td>1010562</td>\n",
       "      <td>1006541</td>\n",
       "      <td>11052</td>\n",
       "      <td>2011-01-19 00:00:00</td>\n",
       "      <td>2011-01-20 00:00:00</td>\n",
       "      <td>10.00</td>\n",
       "      <td>2</td>\n",
       "      <td>20.00</td>\n",
       "    </tr>\n",
       "    <tr>\n",
       "      <th>2</th>\n",
       "      <td>1010563</td>\n",
       "      <td>1006542</td>\n",
       "      <td>11070</td>\n",
       "      <td>2011-01-19 00:00:00</td>\n",
       "      <td>2011-01-20 00:00:00</td>\n",
       "      <td>19.12</td>\n",
       "      <td>1</td>\n",
       "      <td>19.12</td>\n",
       "    </tr>\n",
       "    <tr>\n",
       "      <th>3</th>\n",
       "      <td>1010564</td>\n",
       "      <td>1010154</td>\n",
       "      <td>11196</td>\n",
       "      <td>2009-11-19 00:00:00</td>\n",
       "      <td>2009-11-20 00:00:00</td>\n",
       "      <td>14.95</td>\n",
       "      <td>1</td>\n",
       "      <td>14.95</td>\n",
       "    </tr>\n",
       "    <tr>\n",
       "      <th>4</th>\n",
       "      <td>1010565</td>\n",
       "      <td>1009110</td>\n",
       "      <td>11048</td>\n",
       "      <td>2009-11-11 00:00:00</td>\n",
       "      <td>2009-11-12 00:00:00</td>\n",
       "      <td>10.00</td>\n",
       "      <td>2</td>\n",
       "      <td>20.00</td>\n",
       "    </tr>\n",
       "  </tbody>\n",
       "</table>\n",
       "</div>"
      ],
      "text/plain": [
       "   orderlineid  orderid  productid             shipdate             billdate  \\\n",
       "0      1010561  1006414      10834  2011-03-07 00:00:00  2011-03-08 00:00:00   \n",
       "1      1010562  1006541      11052  2011-01-19 00:00:00  2011-01-20 00:00:00   \n",
       "2      1010563  1006542      11070  2011-01-19 00:00:00  2011-01-20 00:00:00   \n",
       "3      1010564  1010154      11196  2009-11-19 00:00:00  2009-11-20 00:00:00   \n",
       "4      1010565  1009110      11048  2009-11-11 00:00:00  2009-11-12 00:00:00   \n",
       "\n",
       "   unitprice  numunits  totalprice  \n",
       "0      18.00         1       18.00  \n",
       "1      10.00         2       20.00  \n",
       "2      19.12         1       19.12  \n",
       "3      14.95         1       14.95  \n",
       "4      10.00         2       20.00  "
      ]
     },
     "execution_count": 9,
     "metadata": {},
     "output_type": "execute_result"
    }
   ],
   "source": [
    "orderline = pd.read_csv(\"dane/orderline.txt\", sep=\"\\t\", encoding=\"latin1\")\n",
    "orderline.head()"
   ]
  },
  {
   "cell_type": "code",
   "execution_count": 10,
   "metadata": {},
   "outputs": [
    {
     "data": {
      "text/html": [
       "<div>\n",
       "<style scoped>\n",
       "    .dataframe tbody tr th:only-of-type {\n",
       "        vertical-align: middle;\n",
       "    }\n",
       "\n",
       "    .dataframe tbody tr th {\n",
       "        vertical-align: top;\n",
       "    }\n",
       "\n",
       "    .dataframe thead th {\n",
       "        text-align: right;\n",
       "    }\n",
       "</style>\n",
       "<table border=\"1\" class=\"dataframe\">\n",
       "  <thead>\n",
       "    <tr style=\"text-align: right;\">\n",
       "      <th></th>\n",
       "      <th>orderid</th>\n",
       "      <th>customerid</th>\n",
       "      <th>campaignid</th>\n",
       "      <th>orderdate</th>\n",
       "      <th>city</th>\n",
       "      <th>state</th>\n",
       "      <th>zipcode</th>\n",
       "      <th>paymenttype</th>\n",
       "      <th>totalprice</th>\n",
       "      <th>numorderlines</th>\n",
       "      <th>numunits</th>\n",
       "    </tr>\n",
       "  </thead>\n",
       "  <tbody>\n",
       "    <tr>\n",
       "      <th>0</th>\n",
       "      <td>1002854</td>\n",
       "      <td>45978</td>\n",
       "      <td>2141</td>\n",
       "      <td>2009-10-13</td>\n",
       "      <td>NEWTON</td>\n",
       "      <td>MA</td>\n",
       "      <td>02459</td>\n",
       "      <td>VI</td>\n",
       "      <td>190.00</td>\n",
       "      <td>3</td>\n",
       "      <td>3</td>\n",
       "    </tr>\n",
       "    <tr>\n",
       "      <th>1</th>\n",
       "      <td>1002855</td>\n",
       "      <td>125381</td>\n",
       "      <td>2173</td>\n",
       "      <td>2009-10-13</td>\n",
       "      <td>NEW ROCHELLE</td>\n",
       "      <td>NY</td>\n",
       "      <td>10804</td>\n",
       "      <td>VI</td>\n",
       "      <td>10.00</td>\n",
       "      <td>1</td>\n",
       "      <td>1</td>\n",
       "    </tr>\n",
       "    <tr>\n",
       "      <th>2</th>\n",
       "      <td>1002856</td>\n",
       "      <td>103122</td>\n",
       "      <td>2141</td>\n",
       "      <td>2011-06-02</td>\n",
       "      <td>MIAMI</td>\n",
       "      <td>FL</td>\n",
       "      <td>33137</td>\n",
       "      <td>AE</td>\n",
       "      <td>35.22</td>\n",
       "      <td>2</td>\n",
       "      <td>2</td>\n",
       "    </tr>\n",
       "    <tr>\n",
       "      <th>3</th>\n",
       "      <td>1002857</td>\n",
       "      <td>130980</td>\n",
       "      <td>2173</td>\n",
       "      <td>2009-10-14</td>\n",
       "      <td>E RUTHERFORD</td>\n",
       "      <td>NJ</td>\n",
       "      <td>07073</td>\n",
       "      <td>AE</td>\n",
       "      <td>10.00</td>\n",
       "      <td>1</td>\n",
       "      <td>1</td>\n",
       "    </tr>\n",
       "    <tr>\n",
       "      <th>4</th>\n",
       "      <td>1002886</td>\n",
       "      <td>48553</td>\n",
       "      <td>2141</td>\n",
       "      <td>2010-11-19</td>\n",
       "      <td>BALTIMORE</td>\n",
       "      <td>MD</td>\n",
       "      <td>21218</td>\n",
       "      <td>VI</td>\n",
       "      <td>10.00</td>\n",
       "      <td>1</td>\n",
       "      <td>1</td>\n",
       "    </tr>\n",
       "  </tbody>\n",
       "</table>\n",
       "</div>"
      ],
      "text/plain": [
       "   orderid  customerid  campaignid  orderdate          city state zipcode  \\\n",
       "0  1002854       45978        2141 2009-10-13        NEWTON    MA   02459   \n",
       "1  1002855      125381        2173 2009-10-13  NEW ROCHELLE    NY   10804   \n",
       "2  1002856      103122        2141 2011-06-02         MIAMI    FL   33137   \n",
       "3  1002857      130980        2173 2009-10-14  E RUTHERFORD    NJ   07073   \n",
       "4  1002886       48553        2141 2010-11-19     BALTIMORE    MD   21218   \n",
       "\n",
       "  paymenttype  totalprice  numorderlines  numunits  \n",
       "0          VI      190.00              3         3  \n",
       "1          VI       10.00              1         1  \n",
       "2          AE       35.22              2         2  \n",
       "3          AE       10.00              1         1  \n",
       "4          VI       10.00              1         1  "
      ]
     },
     "execution_count": 10,
     "metadata": {},
     "output_type": "execute_result"
    }
   ],
   "source": [
    "orders = pd.read_csv(\"dane/orders.txt\", sep=\"\\t\", encoding=\"latin1\")\n",
    "orders[\"orderdate\"] = pd.to_datetime(orders[\"orderdate\"])\n",
    "orders.head()"
   ]
  },
  {
   "cell_type": "code",
   "execution_count": 11,
   "metadata": {},
   "outputs": [
    {
     "data": {
      "text/html": [
       "<div>\n",
       "<style scoped>\n",
       "    .dataframe tbody tr th:only-of-type {\n",
       "        vertical-align: middle;\n",
       "    }\n",
       "\n",
       "    .dataframe tbody tr th {\n",
       "        vertical-align: top;\n",
       "    }\n",
       "\n",
       "    .dataframe thead th {\n",
       "        text-align: right;\n",
       "    }\n",
       "</style>\n",
       "<table border=\"1\" class=\"dataframe\">\n",
       "  <thead>\n",
       "    <tr style=\"text-align: right;\">\n",
       "      <th></th>\n",
       "      <th>PRODUCTID</th>\n",
       "      <th>PRODUCTNAME</th>\n",
       "      <th>PRODUCTGROUPCODE</th>\n",
       "      <th>PRODUCTGROUPNAME</th>\n",
       "      <th>INSTOCKFLAG</th>\n",
       "      <th>FULLPRICE</th>\n",
       "    </tr>\n",
       "  </thead>\n",
       "  <tbody>\n",
       "    <tr>\n",
       "      <th>0</th>\n",
       "      <td>10001</td>\n",
       "      <td>NaN</td>\n",
       "      <td>CA</td>\n",
       "      <td>CALENDAR</td>\n",
       "      <td>N</td>\n",
       "      <td>15</td>\n",
       "    </tr>\n",
       "    <tr>\n",
       "      <th>1</th>\n",
       "      <td>10002</td>\n",
       "      <td>NaN</td>\n",
       "      <td>CA</td>\n",
       "      <td>CALENDAR</td>\n",
       "      <td>N</td>\n",
       "      <td>10</td>\n",
       "    </tr>\n",
       "    <tr>\n",
       "      <th>2</th>\n",
       "      <td>10003</td>\n",
       "      <td>NaN</td>\n",
       "      <td>CA</td>\n",
       "      <td>CALENDAR</td>\n",
       "      <td>N</td>\n",
       "      <td>10</td>\n",
       "    </tr>\n",
       "    <tr>\n",
       "      <th>3</th>\n",
       "      <td>10004</td>\n",
       "      <td>NaN</td>\n",
       "      <td>BK</td>\n",
       "      <td>BOOK</td>\n",
       "      <td>Y</td>\n",
       "      <td>90</td>\n",
       "    </tr>\n",
       "    <tr>\n",
       "      <th>4</th>\n",
       "      <td>10005</td>\n",
       "      <td>NaN</td>\n",
       "      <td>BK</td>\n",
       "      <td>BOOK</td>\n",
       "      <td>Y</td>\n",
       "      <td>16</td>\n",
       "    </tr>\n",
       "  </tbody>\n",
       "</table>\n",
       "</div>"
      ],
      "text/plain": [
       "   PRODUCTID  PRODUCTNAME PRODUCTGROUPCODE PRODUCTGROUPNAME INSTOCKFLAG  \\\n",
       "0      10001          NaN               CA         CALENDAR           N   \n",
       "1      10002          NaN               CA         CALENDAR           N   \n",
       "2      10003          NaN               CA         CALENDAR           N   \n",
       "3      10004          NaN               BK             BOOK           Y   \n",
       "4      10005          NaN               BK             BOOK           Y   \n",
       "\n",
       "   FULLPRICE  \n",
       "0         15  \n",
       "1         10  \n",
       "2         10  \n",
       "3         90  \n",
       "4         16  "
      ]
     },
     "execution_count": 11,
     "metadata": {},
     "output_type": "execute_result"
    }
   ],
   "source": [
    "product = pd.read_csv(\"dane/product.txt\", sep=\"\\t\", encoding=\"latin1\")\n",
    "product.head()"
   ]
  },
  {
   "cell_type": "code",
   "execution_count": 12,
   "metadata": {},
   "outputs": [
    {
     "data": {
      "text/html": [
       "<div>\n",
       "<style scoped>\n",
       "    .dataframe tbody tr th:only-of-type {\n",
       "        vertical-align: middle;\n",
       "    }\n",
       "\n",
       "    .dataframe tbody tr th {\n",
       "        vertical-align: top;\n",
       "    }\n",
       "\n",
       "    .dataframe thead th {\n",
       "        text-align: right;\n",
       "    }\n",
       "</style>\n",
       "<table border=\"1\" class=\"dataframe\">\n",
       "  <thead>\n",
       "    <tr style=\"text-align: right;\">\n",
       "      <th></th>\n",
       "      <th>zipcode</th>\n",
       "      <th>state</th>\n",
       "      <th>population</th>\n",
       "      <th>housingunits</th>\n",
       "      <th>landareameters</th>\n",
       "      <th>waterareameters</th>\n",
       "      <th>landareamiles</th>\n",
       "      <th>waterareamiles</th>\n",
       "      <th>latitude</th>\n",
       "      <th>longitude</th>\n",
       "      <th>...</th>\n",
       "      <th>hhuofuelnone</th>\n",
       "      <th>hhuoplumbingcomplete</th>\n",
       "      <th>hhuoplumbinglacking</th>\n",
       "      <th>hhumediancashrent</th>\n",
       "      <th>hhunmarried</th>\n",
       "      <th>hhunmarriedmm</th>\n",
       "      <th>hhunmarriedmf</th>\n",
       "      <th>hhunmarriedff</th>\n",
       "      <th>hhunmarriedfm</th>\n",
       "      <th>hhother</th>\n",
       "    </tr>\n",
       "  </thead>\n",
       "  <tbody>\n",
       "    <tr>\n",
       "      <th>0</th>\n",
       "      <td>601</td>\n",
       "      <td>PR</td>\n",
       "      <td>19143</td>\n",
       "      <td>6715</td>\n",
       "      <td>172731389</td>\n",
       "      <td>1082233</td>\n",
       "      <td>66.691965</td>\n",
       "      <td>0.417853</td>\n",
       "      <td>18.180103</td>\n",
       "      <td>-66.749472</td>\n",
       "      <td>...</td>\n",
       "      <td>0.622561</td>\n",
       "      <td>0.948771</td>\n",
       "      <td>0.051229</td>\n",
       "      <td>214</td>\n",
       "      <td>0.024936</td>\n",
       "      <td>0.001866</td>\n",
       "      <td>0.010178</td>\n",
       "      <td>0.009839</td>\n",
       "      <td>0.003053</td>\n",
       "      <td>0.978456</td>\n",
       "    </tr>\n",
       "    <tr>\n",
       "      <th>1</th>\n",
       "      <td>602</td>\n",
       "      <td>PR</td>\n",
       "      <td>42042</td>\n",
       "      <td>15590</td>\n",
       "      <td>80137374</td>\n",
       "      <td>0</td>\n",
       "      <td>30.941214</td>\n",
       "      <td>0.000000</td>\n",
       "      <td>18.363285</td>\n",
       "      <td>-67.180247</td>\n",
       "      <td>...</td>\n",
       "      <td>0.637648</td>\n",
       "      <td>0.880757</td>\n",
       "      <td>0.119243</td>\n",
       "      <td>233</td>\n",
       "      <td>0.020562</td>\n",
       "      <td>0.003994</td>\n",
       "      <td>0.008506</td>\n",
       "      <td>0.006583</td>\n",
       "      <td>0.001479</td>\n",
       "      <td>0.980104</td>\n",
       "    </tr>\n",
       "    <tr>\n",
       "      <th>2</th>\n",
       "      <td>603</td>\n",
       "      <td>PR</td>\n",
       "      <td>55530</td>\n",
       "      <td>21626</td>\n",
       "      <td>78693011</td>\n",
       "      <td>83181</td>\n",
       "      <td>30.383543</td>\n",
       "      <td>0.032116</td>\n",
       "      <td>18.448619</td>\n",
       "      <td>-67.134224</td>\n",
       "      <td>...</td>\n",
       "      <td>0.666979</td>\n",
       "      <td>0.938016</td>\n",
       "      <td>0.061984</td>\n",
       "      <td>154</td>\n",
       "      <td>0.020384</td>\n",
       "      <td>0.001720</td>\n",
       "      <td>0.004744</td>\n",
       "      <td>0.012772</td>\n",
       "      <td>0.001147</td>\n",
       "      <td>0.978104</td>\n",
       "    </tr>\n",
       "    <tr>\n",
       "      <th>3</th>\n",
       "      <td>604</td>\n",
       "      <td>PR</td>\n",
       "      <td>3923</td>\n",
       "      <td>1245</td>\n",
       "      <td>7785336</td>\n",
       "      <td>0</td>\n",
       "      <td>3.005935</td>\n",
       "      <td>0.000000</td>\n",
       "      <td>18.498987</td>\n",
       "      <td>-67.136995</td>\n",
       "      <td>...</td>\n",
       "      <td>0.614325</td>\n",
       "      <td>0.996622</td>\n",
       "      <td>0.003378</td>\n",
       "      <td>396</td>\n",
       "      <td>0.040404</td>\n",
       "      <td>0.008264</td>\n",
       "      <td>0.010101</td>\n",
       "      <td>0.000000</td>\n",
       "      <td>0.022039</td>\n",
       "      <td>0.961433</td>\n",
       "    </tr>\n",
       "    <tr>\n",
       "      <th>4</th>\n",
       "      <td>606</td>\n",
       "      <td>PR</td>\n",
       "      <td>6449</td>\n",
       "      <td>2272</td>\n",
       "      <td>94870047</td>\n",
       "      <td>0</td>\n",
       "      <td>36.629531</td>\n",
       "      <td>0.000000</td>\n",
       "      <td>18.182151</td>\n",
       "      <td>-66.958807</td>\n",
       "      <td>...</td>\n",
       "      <td>0.621957</td>\n",
       "      <td>0.938820</td>\n",
       "      <td>0.061180</td>\n",
       "      <td>202</td>\n",
       "      <td>0.018381</td>\n",
       "      <td>0.003974</td>\n",
       "      <td>0.008942</td>\n",
       "      <td>0.005464</td>\n",
       "      <td>0.000000</td>\n",
       "      <td>0.982613</td>\n",
       "    </tr>\n",
       "  </tbody>\n",
       "</table>\n",
       "<p>5 rows × 113 columns</p>\n",
       "</div>"
      ],
      "text/plain": [
       "   zipcode state  population  housingunits  landareameters  waterareameters  \\\n",
       "0      601    PR       19143          6715       172731389          1082233   \n",
       "1      602    PR       42042         15590        80137374                0   \n",
       "2      603    PR       55530         21626        78693011            83181   \n",
       "3      604    PR        3923          1245         7785336                0   \n",
       "4      606    PR        6449          2272        94870047                0   \n",
       "\n",
       "   landareamiles  waterareamiles   latitude  longitude  ...  hhuofuelnone  \\\n",
       "0      66.691965        0.417853  18.180103 -66.749472  ...      0.622561   \n",
       "1      30.941214        0.000000  18.363285 -67.180247  ...      0.637648   \n",
       "2      30.383543        0.032116  18.448619 -67.134224  ...      0.666979   \n",
       "3       3.005935        0.000000  18.498987 -67.136995  ...      0.614325   \n",
       "4      36.629531        0.000000  18.182151 -66.958807  ...      0.621957   \n",
       "\n",
       "  hhuoplumbingcomplete hhuoplumbinglacking hhumediancashrent  hhunmarried  \\\n",
       "0             0.948771            0.051229               214     0.024936   \n",
       "1             0.880757            0.119243               233     0.020562   \n",
       "2             0.938016            0.061984               154     0.020384   \n",
       "3             0.996622            0.003378               396     0.040404   \n",
       "4             0.938820            0.061180               202     0.018381   \n",
       "\n",
       "   hhunmarriedmm  hhunmarriedmf  hhunmarriedff  hhunmarriedfm   hhother  \n",
       "0       0.001866       0.010178       0.009839       0.003053  0.978456  \n",
       "1       0.003994       0.008506       0.006583       0.001479  0.980104  \n",
       "2       0.001720       0.004744       0.012772       0.001147  0.978104  \n",
       "3       0.008264       0.010101       0.000000       0.022039  0.961433  \n",
       "4       0.003974       0.008942       0.005464       0.000000  0.982613  \n",
       "\n",
       "[5 rows x 113 columns]"
      ]
     },
     "execution_count": 12,
     "metadata": {},
     "output_type": "execute_result"
    }
   ],
   "source": [
    "zipcensus = pd.read_csv(\"dane/zipcensus.txt\", sep=\"\\t\", encoding=\"latin1\")\n",
    "zipcensus.head()"
   ]
  },
  {
   "cell_type": "code",
   "execution_count": 13,
   "metadata": {},
   "outputs": [
    {
     "data": {
      "text/html": [
       "<div>\n",
       "<style scoped>\n",
       "    .dataframe tbody tr th:only-of-type {\n",
       "        vertical-align: middle;\n",
       "    }\n",
       "\n",
       "    .dataframe tbody tr th {\n",
       "        vertical-align: top;\n",
       "    }\n",
       "\n",
       "    .dataframe thead th {\n",
       "        text-align: right;\n",
       "    }\n",
       "</style>\n",
       "<table border=\"1\" class=\"dataframe\">\n",
       "  <thead>\n",
       "    <tr style=\"text-align: right;\">\n",
       "      <th></th>\n",
       "      <th>zipcode</th>\n",
       "      <th>latitude</th>\n",
       "      <th>longitude</th>\n",
       "      <th>poname</th>\n",
       "      <th>zipclass</th>\n",
       "      <th>countyfips</th>\n",
       "      <th>state</th>\n",
       "      <th>countyname</th>\n",
       "      <th>countypop</th>\n",
       "      <th>countyhu</th>\n",
       "      <th>countylandareamiles</th>\n",
       "      <th>countywaterareamiles</th>\n",
       "    </tr>\n",
       "  </thead>\n",
       "  <tbody>\n",
       "    <tr>\n",
       "      <th>0</th>\n",
       "      <td>773</td>\n",
       "      <td>18.366028</td>\n",
       "      <td>-65.708138</td>\n",
       "      <td>LUQUILLO</td>\n",
       "      <td></td>\n",
       "      <td>72089</td>\n",
       "      <td>PR</td>\n",
       "      <td>Luquillo Municipio</td>\n",
       "      <td>19817</td>\n",
       "      <td>9327</td>\n",
       "      <td>25.697733</td>\n",
       "      <td>20.725328</td>\n",
       "    </tr>\n",
       "    <tr>\n",
       "      <th>1</th>\n",
       "      <td>775</td>\n",
       "      <td>18.323736</td>\n",
       "      <td>-65.296471</td>\n",
       "      <td>CULEBRA</td>\n",
       "      <td>P</td>\n",
       "      <td>72049</td>\n",
       "      <td>PR</td>\n",
       "      <td>Culebra Municipio</td>\n",
       "      <td>1868</td>\n",
       "      <td>1024</td>\n",
       "      <td>11.618370</td>\n",
       "      <td>157.207930</td>\n",
       "    </tr>\n",
       "    <tr>\n",
       "      <th>2</th>\n",
       "      <td>777</td>\n",
       "      <td>18.206490</td>\n",
       "      <td>-65.901772</td>\n",
       "      <td>JUNCOS</td>\n",
       "      <td></td>\n",
       "      <td>72077</td>\n",
       "      <td>PR</td>\n",
       "      <td>Juncos Municipio</td>\n",
       "      <td>36452</td>\n",
       "      <td>13064</td>\n",
       "      <td>26.586044</td>\n",
       "      <td>0.012102</td>\n",
       "    </tr>\n",
       "    <tr>\n",
       "      <th>3</th>\n",
       "      <td>778</td>\n",
       "      <td>18.259092</td>\n",
       "      <td>-65.974640</td>\n",
       "      <td>GURABO</td>\n",
       "      <td></td>\n",
       "      <td>72063</td>\n",
       "      <td>PR</td>\n",
       "      <td>Gurabo Municipio</td>\n",
       "      <td>36743</td>\n",
       "      <td>12854</td>\n",
       "      <td>27.841166</td>\n",
       "      <td>0.437728</td>\n",
       "    </tr>\n",
       "    <tr>\n",
       "      <th>4</th>\n",
       "      <td>780</td>\n",
       "      <td>18.001995</td>\n",
       "      <td>-66.607430</td>\n",
       "      <td>COTO LAUREL</td>\n",
       "      <td></td>\n",
       "      <td>72113</td>\n",
       "      <td>PR</td>\n",
       "      <td>Ponce Municipio</td>\n",
       "      <td>186475</td>\n",
       "      <td>66471</td>\n",
       "      <td>114.721200</td>\n",
       "      <td>78.884560</td>\n",
       "    </tr>\n",
       "  </tbody>\n",
       "</table>\n",
       "</div>"
      ],
      "text/plain": [
       "   zipcode   latitude  longitude       poname zipclass  countyfips state  \\\n",
       "0      773  18.366028 -65.708138     LUQUILLO                72089    PR   \n",
       "1      775  18.323736 -65.296471      CULEBRA        P       72049    PR   \n",
       "2      777  18.206490 -65.901772       JUNCOS                72077    PR   \n",
       "3      778  18.259092 -65.974640       GURABO                72063    PR   \n",
       "4      780  18.001995 -66.607430  COTO LAUREL                72113    PR   \n",
       "\n",
       "           countyname  countypop  countyhu  countylandareamiles  \\\n",
       "0  Luquillo Municipio      19817      9327            25.697733   \n",
       "1   Culebra Municipio       1868      1024            11.618370   \n",
       "2    Juncos Municipio      36452     13064            26.586044   \n",
       "3    Gurabo Municipio      36743     12854            27.841166   \n",
       "4     Ponce Municipio     186475     66471           114.721200   \n",
       "\n",
       "   countywaterareamiles  \n",
       "0             20.725328  \n",
       "1            157.207930  \n",
       "2              0.012102  \n",
       "3              0.437728  \n",
       "4             78.884560  "
      ]
     },
     "execution_count": 13,
     "metadata": {},
     "output_type": "execute_result"
    }
   ],
   "source": [
    "zipcounty = pd.read_csv(\"dane/zipcounty.txt\", sep=\"\\t\", encoding=\"latin1\")\n",
    "zipcounty.head()"
   ]
  },
  {
   "cell_type": "markdown",
   "metadata": {},
   "source": [
    "## 6. Wyznaczenie Recency\n",
    " > czyli określenie daty ostatniego zakupu."
   ]
  },
  {
   "cell_type": "markdown",
   "metadata": {},
   "source": [
    "### 6.1 Sprawdzenie kiedy ostatnio zrobiono zamówienie przez gospodarstwo domowe  "
   ]
  },
  {
   "cell_type": "code",
   "execution_count": 14,
   "metadata": {},
   "outputs": [],
   "source": [
    "polaczone = pd.merge(customer, orders, on=\"customerid\")\n",
    "polaczone = polaczone[polaczone['orderdate'] <= \"2016-01-01\"]\n",
    "x = polaczone.groupby([\"householdid\"])['orderdate'].max().to_frame()"
   ]
  },
  {
   "cell_type": "code",
   "execution_count": 15,
   "metadata": {},
   "outputs": [
    {
     "data": {
      "text/html": [
       "<div>\n",
       "<style scoped>\n",
       "    .dataframe tbody tr th:only-of-type {\n",
       "        vertical-align: middle;\n",
       "    }\n",
       "\n",
       "    .dataframe tbody tr th {\n",
       "        vertical-align: top;\n",
       "    }\n",
       "\n",
       "    .dataframe thead th {\n",
       "        text-align: right;\n",
       "    }\n",
       "</style>\n",
       "<table border=\"1\" class=\"dataframe\">\n",
       "  <thead>\n",
       "    <tr style=\"text-align: right;\">\n",
       "      <th></th>\n",
       "      <th>orderdate</th>\n",
       "    </tr>\n",
       "    <tr>\n",
       "      <th>householdid</th>\n",
       "      <th></th>\n",
       "    </tr>\n",
       "  </thead>\n",
       "  <tbody>\n",
       "    <tr>\n",
       "      <th>18111489</th>\n",
       "      <td>2011-08-28</td>\n",
       "    </tr>\n",
       "    <tr>\n",
       "      <th>18111580</th>\n",
       "      <td>2014-11-10</td>\n",
       "    </tr>\n",
       "    <tr>\n",
       "      <th>18111642</th>\n",
       "      <td>2014-10-21</td>\n",
       "    </tr>\n",
       "    <tr>\n",
       "      <th>18111668</th>\n",
       "      <td>2014-02-03</td>\n",
       "    </tr>\n",
       "    <tr>\n",
       "      <th>18111771</th>\n",
       "      <td>2011-01-15</td>\n",
       "    </tr>\n",
       "  </tbody>\n",
       "</table>\n",
       "</div>"
      ],
      "text/plain": [
       "             orderdate\n",
       "householdid           \n",
       "18111489    2011-08-28\n",
       "18111580    2014-11-10\n",
       "18111642    2014-10-21\n",
       "18111668    2014-02-03\n",
       "18111771    2011-01-15"
      ]
     },
     "execution_count": 15,
     "metadata": {},
     "output_type": "execute_result"
    }
   ],
   "source": [
    "x.head()"
   ]
  },
  {
   "cell_type": "markdown",
   "metadata": {},
   "source": [
    "### 6.2 Obliczenie liczby dni od daty ostatniego zakupu do daty granicznej oraz obliczenie wartości dla recency "
   ]
  },
  {
   "cell_type": "markdown",
   "metadata": {},
   "source": [
    "Do wyznaczenia liczby dni obliczono różnicę pomiędzy datą graniczną a datą ostatniego zamówienia gospodarstwa domowego. Następnie wyznaczono granicę poziomów wartości dla recency za pomocą kwantyli. "
   ]
  },
  {
   "cell_type": "code",
   "execution_count": 16,
   "metadata": {},
   "outputs": [],
   "source": [
    "d0 =  np.datetime64('2016-01-01')\n",
    "liczba_dni = (d0 - x.orderdate)\n",
    "x['recency'] = liczba_dni.dt.days\n",
    "kwantyle = x['recency'].quantile(rzad_kwantyli)\n",
    "ustaw_poziomy(x,'recency',kwantyle)"
   ]
  },
  {
   "cell_type": "code",
   "execution_count": 17,
   "metadata": {
    "scrolled": true
   },
   "outputs": [
    {
     "data": {
      "text/html": [
       "<div>\n",
       "<style scoped>\n",
       "    .dataframe tbody tr th:only-of-type {\n",
       "        vertical-align: middle;\n",
       "    }\n",
       "\n",
       "    .dataframe tbody tr th {\n",
       "        vertical-align: top;\n",
       "    }\n",
       "\n",
       "    .dataframe thead th {\n",
       "        text-align: right;\n",
       "    }\n",
       "</style>\n",
       "<table border=\"1\" class=\"dataframe\">\n",
       "  <thead>\n",
       "    <tr style=\"text-align: right;\">\n",
       "      <th></th>\n",
       "      <th>orderdate</th>\n",
       "      <th>recency</th>\n",
       "      <th>wartosc</th>\n",
       "    </tr>\n",
       "    <tr>\n",
       "      <th>householdid</th>\n",
       "      <th></th>\n",
       "      <th></th>\n",
       "      <th></th>\n",
       "    </tr>\n",
       "  </thead>\n",
       "  <tbody>\n",
       "    <tr>\n",
       "      <th>18111489</th>\n",
       "      <td>2011-08-28</td>\n",
       "      <td>1587</td>\n",
       "      <td>4</td>\n",
       "    </tr>\n",
       "    <tr>\n",
       "      <th>18111580</th>\n",
       "      <td>2014-11-10</td>\n",
       "      <td>417</td>\n",
       "      <td>2</td>\n",
       "    </tr>\n",
       "    <tr>\n",
       "      <th>18111642</th>\n",
       "      <td>2014-10-21</td>\n",
       "      <td>437</td>\n",
       "      <td>2</td>\n",
       "    </tr>\n",
       "    <tr>\n",
       "      <th>18111668</th>\n",
       "      <td>2014-02-03</td>\n",
       "      <td>697</td>\n",
       "      <td>3</td>\n",
       "    </tr>\n",
       "    <tr>\n",
       "      <th>18111771</th>\n",
       "      <td>2011-01-15</td>\n",
       "      <td>1812</td>\n",
       "      <td>5</td>\n",
       "    </tr>\n",
       "  </tbody>\n",
       "</table>\n",
       "</div>"
      ],
      "text/plain": [
       "             orderdate  recency  wartosc\n",
       "householdid                             \n",
       "18111489    2011-08-28     1587        4\n",
       "18111580    2014-11-10      417        2\n",
       "18111642    2014-10-21      437        2\n",
       "18111668    2014-02-03      697        3\n",
       "18111771    2011-01-15     1812        5"
      ]
     },
     "execution_count": 17,
     "metadata": {},
     "output_type": "execute_result"
    }
   ],
   "source": [
    "x.head()"
   ]
  },
  {
   "cell_type": "markdown",
   "metadata": {},
   "source": [
    "**Tabela 1.** Przedstawienie gospodarstw pod względem wartości"
   ]
  },
  {
   "cell_type": "markdown",
   "metadata": {},
   "source": [
    "### 6.3 Wyświetlenie wykresu recency"
   ]
  },
  {
   "cell_type": "code",
   "execution_count": 18,
   "metadata": {},
   "outputs": [
    {
     "data": {
      "image/png": "[encoded data removed]",
      "text/plain": [
       "<Figure size 432x288 with 1 Axes>"
      ]
     },
     "metadata": {
      "needs_background": "light"
     },
     "output_type": "display_data"
    }
   ],
   "source": [
    "kwantyle_wykres(kwantyle)"
   ]
  },
  {
   "cell_type": "markdown",
   "metadata": {},
   "source": [
    "**Rys. 1** Wykres Recency"
   ]
  },
  {
   "cell_type": "markdown",
   "metadata": {},
   "source": [
    "### 6.4. Wnioski \n",
    "\n",
    "Aby dokładnie określić wartość Recency należało najpierw:\n",
    "- sprawdzić datę ostatniego zakupu przeprowadzonego przez dane gospodarstwo,\n",
    "- obliczyć liczbę dni od ostatniego zakupu przez gospodarstwo\n",
    "\n",
    "Na podstawie tych danych zostały utworzone wartości za pomocą kwantyli dla poszczególnych gospodarstw. Takie zastosowanie kwantyli dzieli nasze wartości po równo. Wzory do obliczenia kwantyli zostały przedstawione w podpunkcie **4**. \n",
    "\n",
    "\n",
    "W punkcie **6.3** został wyświetlony wykres Recency na podstawie obliczonych danych. Oś horyzontalna przedstawia liczbę dni od ostatniego zakupu a oś wertykalna zastosowanych wartości kwantyli. \n",
    "\n",
    "Z wykresu można odczytać że:\n",
    "- 20% gospodarstw dokonało zakupu w ciągu 381 dni\n",
    "- 40% gospodarstw dokonało zakupu w ciągu 615 dni\n",
    "- 60% gospodarstw dokonało zakupu w ciągu  1068 dni\n",
    "- 80% gospodarstw dokonało zakupu w ciągu  1697 dni\n",
    "\n",
    "Najważniejsze gospodarstwa znajdują się w tej grupie, którzy dokonali zakupu w ciągu 381 dni. Dostały one wartość klasyfikacji równą 1, czyli największą.      \n",
    "\n",
    "**Oceny rozkładają się następująco:**\n",
    "- 1 do\t381 dni\n",
    "- 2 do\t615 dni\n",
    "- 3 do\t1068 dni\n",
    "- 4 do \t1697 dni\n",
    "- 5 powyżej 1697 dni"
   ]
  },
  {
   "cell_type": "markdown",
   "metadata": {},
   "source": [
    "## 7. Wyznaczenie Frequency\n",
    "> jako wskaźnik okresu czasu od najwcześniejszego zakupu podzielony przez ilość zakupów."
   ]
  },
  {
   "cell_type": "markdown",
   "metadata": {},
   "source": [
    "### 7.1  Obliczenie liczby zamówień i  obliczenie ilości dni od pierwszej transakcji "
   ]
  },
  {
   "cell_type": "markdown",
   "metadata": {},
   "source": [
    "Do wyznaczenia liczby dni obliczono różnicę pomiędzy datą graniczną a datą pierwszej transakcji. W zbiorze danych zostały podliczone wszystkie zamówienia względem gospodarstwa domowego. "
   ]
  },
  {
   "cell_type": "code",
   "execution_count": 19,
   "metadata": {},
   "outputs": [],
   "source": [
    "polaczone_frequency = pd.merge(customer, orders, on=\"customerid\")\n",
    "polaczone_frequency['orderdate'] = pd.to_datetime(polaczone_frequency['orderdate'])\n",
    "polaczone_frequency = polaczone_frequency[polaczone_frequency['orderdate'] <= \"2016-01-01\"]\n",
    "minimalna_data = polaczone_frequency.groupby([\"householdid\"])['orderdate'].min().to_frame()\n",
    "liczba_zamowien = polaczone_frequency.groupby([\"householdid\"])['orderdate'].count().to_frame()\n",
    "liczba_zamowien.columns= [\"liczba_zamowien\"]\n",
    "d0 =  np.datetime64('2016-01-01')\n",
    "liczba_dni = (d0 - minimalna_data.orderdate)\n",
    "liczba_zamowien['liczba_dni_od_pierwszego_zakupu'] = liczba_dni.dt.days"
   ]
  },
  {
   "cell_type": "code",
   "execution_count": 20,
   "metadata": {},
   "outputs": [
    {
     "data": {
      "text/html": [
       "<div>\n",
       "<style scoped>\n",
       "    .dataframe tbody tr th:only-of-type {\n",
       "        vertical-align: middle;\n",
       "    }\n",
       "\n",
       "    .dataframe tbody tr th {\n",
       "        vertical-align: top;\n",
       "    }\n",
       "\n",
       "    .dataframe thead th {\n",
       "        text-align: right;\n",
       "    }\n",
       "</style>\n",
       "<table border=\"1\" class=\"dataframe\">\n",
       "  <thead>\n",
       "    <tr style=\"text-align: right;\">\n",
       "      <th></th>\n",
       "      <th>liczba_zamowien</th>\n",
       "      <th>liczba_dni_od_pierwszego_zakupu</th>\n",
       "    </tr>\n",
       "    <tr>\n",
       "      <th>householdid</th>\n",
       "      <th></th>\n",
       "      <th></th>\n",
       "    </tr>\n",
       "  </thead>\n",
       "  <tbody>\n",
       "    <tr>\n",
       "      <th>18111489</th>\n",
       "      <td>1</td>\n",
       "      <td>1587</td>\n",
       "    </tr>\n",
       "    <tr>\n",
       "      <th>18111580</th>\n",
       "      <td>1</td>\n",
       "      <td>417</td>\n",
       "    </tr>\n",
       "    <tr>\n",
       "      <th>18111642</th>\n",
       "      <td>1</td>\n",
       "      <td>437</td>\n",
       "    </tr>\n",
       "    <tr>\n",
       "      <th>18111668</th>\n",
       "      <td>1</td>\n",
       "      <td>697</td>\n",
       "    </tr>\n",
       "    <tr>\n",
       "      <th>18111771</th>\n",
       "      <td>1</td>\n",
       "      <td>1812</td>\n",
       "    </tr>\n",
       "  </tbody>\n",
       "</table>\n",
       "</div>"
      ],
      "text/plain": [
       "             liczba_zamowien  liczba_dni_od_pierwszego_zakupu\n",
       "householdid                                                  \n",
       "18111489                   1                             1587\n",
       "18111580                   1                              417\n",
       "18111642                   1                              437\n",
       "18111668                   1                              697\n",
       "18111771                   1                             1812"
      ]
     },
     "execution_count": 20,
     "metadata": {},
     "output_type": "execute_result"
    }
   ],
   "source": [
    "liczba_zamowien.head()"
   ]
  },
  {
   "cell_type": "markdown",
   "metadata": {},
   "source": [
    "### 7.2 Wyznaczanie Frequency oraz obliczenie wartości\n",
    "Frequency zostało obliczone poprzez obliczenie ilorazu dla danego gospodarstwa:   \n",
    "# $\\frac{Liczba\\quad dni \\quad od\\quad  ostatniego \\quad zakupu}{\\sum zamowienia}$\n",
    "Następnie wyznaczono granicę poziomów wartości dla recency za pomocą kwantyli."
   ]
  },
  {
   "cell_type": "code",
   "execution_count": 21,
   "metadata": {},
   "outputs": [],
   "source": [
    "liczba_zamowien[\"Frequency\"] = liczba_zamowien['liczba_dni_od_pierwszego_zakupu']/liczba_zamowien['liczba_zamowien']\n",
    "frequency_kwantyle = liczba_zamowien['Frequency'].quantile(rzad_kwantyli)\n",
    "ustaw_poziomy(liczba_zamowien,'Frequency',frequency_kwantyle)"
   ]
  },
  {
   "cell_type": "code",
   "execution_count": 22,
   "metadata": {},
   "outputs": [
    {
     "data": {
      "text/html": [
       "<div>\n",
       "<style scoped>\n",
       "    .dataframe tbody tr th:only-of-type {\n",
       "        vertical-align: middle;\n",
       "    }\n",
       "\n",
       "    .dataframe tbody tr th {\n",
       "        vertical-align: top;\n",
       "    }\n",
       "\n",
       "    .dataframe thead th {\n",
       "        text-align: right;\n",
       "    }\n",
       "</style>\n",
       "<table border=\"1\" class=\"dataframe\">\n",
       "  <thead>\n",
       "    <tr style=\"text-align: right;\">\n",
       "      <th></th>\n",
       "      <th>liczba_zamowien</th>\n",
       "      <th>liczba_dni_od_pierwszego_zakupu</th>\n",
       "      <th>Frequency</th>\n",
       "      <th>wartosc</th>\n",
       "    </tr>\n",
       "    <tr>\n",
       "      <th>householdid</th>\n",
       "      <th></th>\n",
       "      <th></th>\n",
       "      <th></th>\n",
       "      <th></th>\n",
       "    </tr>\n",
       "  </thead>\n",
       "  <tbody>\n",
       "    <tr>\n",
       "      <th>18111489</th>\n",
       "      <td>1</td>\n",
       "      <td>1587</td>\n",
       "      <td>1587.0</td>\n",
       "      <td>4</td>\n",
       "    </tr>\n",
       "    <tr>\n",
       "      <th>18111580</th>\n",
       "      <td>1</td>\n",
       "      <td>417</td>\n",
       "      <td>417.0</td>\n",
       "      <td>2</td>\n",
       "    </tr>\n",
       "    <tr>\n",
       "      <th>18111642</th>\n",
       "      <td>1</td>\n",
       "      <td>437</td>\n",
       "      <td>437.0</td>\n",
       "      <td>2</td>\n",
       "    </tr>\n",
       "    <tr>\n",
       "      <th>18111668</th>\n",
       "      <td>1</td>\n",
       "      <td>697</td>\n",
       "      <td>697.0</td>\n",
       "      <td>3</td>\n",
       "    </tr>\n",
       "    <tr>\n",
       "      <th>18111771</th>\n",
       "      <td>1</td>\n",
       "      <td>1812</td>\n",
       "      <td>1812.0</td>\n",
       "      <td>5</td>\n",
       "    </tr>\n",
       "  </tbody>\n",
       "</table>\n",
       "</div>"
      ],
      "text/plain": [
       "             liczba_zamowien  liczba_dni_od_pierwszego_zakupu  Frequency  \\\n",
       "householdid                                                                \n",
       "18111489                   1                             1587     1587.0   \n",
       "18111580                   1                              417      417.0   \n",
       "18111642                   1                              437      437.0   \n",
       "18111668                   1                              697      697.0   \n",
       "18111771                   1                             1812     1812.0   \n",
       "\n",
       "             wartosc  \n",
       "householdid           \n",
       "18111489           4  \n",
       "18111580           2  \n",
       "18111642           2  \n",
       "18111668           3  \n",
       "18111771           5  "
      ]
     },
     "execution_count": 22,
     "metadata": {},
     "output_type": "execute_result"
    }
   ],
   "source": [
    "liczba_zamowien.head()"
   ]
  },
  {
   "cell_type": "markdown",
   "metadata": {},
   "source": [
    "**Tabela 2.** Wartości niezbędne do wyliczenia frequency, wskaźnik frequency oraz wartość"
   ]
  },
  {
   "cell_type": "markdown",
   "metadata": {},
   "source": [
    "### 7.3. Wyświetlenie wykresu Frequency"
   ]
  },
  {
   "cell_type": "code",
   "execution_count": 23,
   "metadata": {},
   "outputs": [
    {
     "data": {
      "image/png": "[encoded data removed]",
      "text/plain": [
       "<Figure size 432x288 with 1 Axes>"
      ]
     },
     "metadata": {
      "needs_background": "light"
     },
     "output_type": "display_data"
    }
   ],
   "source": [
    "kwantyle_wykres(frequency_kwantyle)"
   ]
  },
  {
   "cell_type": "markdown",
   "metadata": {},
   "source": [
    "**Rys. 2** Wykres Frequency"
   ]
  },
  {
   "cell_type": "markdown",
   "metadata": {},
   "source": [
    "### 7.4 Wnioski \n",
    "\n",
    "Aby dokładnie określić wartość Frequency należało najpierw:\n",
    "- określić kiedy zostało zrobione pierwsze zrealizowane zamówienie,\n",
    "- obliczyć liczbę zamówień dla gospodarstwa domowego\n",
    "\n",
    "Na podstawie tych danych zostały utworzone wartości za pomocą kwantyli dla danego gospodarstwa. \n",
    "\n",
    "Znając wartości został utworzony wykres przedstawiony na **Rys. 2.**\n",
    "Na powyższym wykresie można zauważyć: \n",
    "- 20% gospodarstw zamawia minimalnie raz w ciągu 373 dni\n",
    "- 40% gospodarstw zamawia minimalnie w ciągu 595 dni\n",
    "- 60% gospodarstw zamawia minimalnie w ciągu  975 dni\n",
    "- 80% gospodarstw zamawia minimalnie w ciągu  1629 dni\n",
    "\n",
    "Najważniejsze gospodarstwa znajdują się w grupie, gdzie został zamówiony jakiś produkt przynajmniej raz w ciągu najbliższych 373 dni. Takim gospodarstwom została przypisana wartość klasyfikacji równa 1, czyli największa. Wiemy już dzięki temu, że najlepsi konsumenci to tacy, którzy kupują często, a także w krótkim odstępie czasowym. Kolejnym krokiem prowadzącym do pełnej analizy brakuje nam informacji na temat ilości wydanych pieniędzy.  Dlatego przejdziemy teraz do kolejnego czynnika, czyli Monetary. \n",
    "\n",
    "**Oceny rozkładają się następująco:**\n",
    "- 1 do\t373 dni\n",
    "- 2 do\t595 dni\n",
    "- 3 do\t975 dni\n",
    "- 4 do \t1629 dni\n",
    "- 5 powyżej 1629 dni"
   ]
  },
  {
   "cell_type": "markdown",
   "metadata": {},
   "source": [
    "# 8. Monetary\n",
    "> średnia wielkość pieniędzy wydanych przez klienta."
   ]
  },
  {
   "cell_type": "markdown",
   "metadata": {},
   "source": [
    "### 8.1. Wyliczanie średniej ilości pieniędzy wydawanej na zakupy oraz przypisanie wartości\n",
    "\n",
    "Została obliczona średnia arytmetyczna wydanych pieniędzy przez gospodarstwo domowe.\n",
    "\n",
    "\n",
    "# $\\overline{x} = \\frac{\\sum_{i=1}^{n} x_{i}}{n}$\n",
    "Następnie wyznaczono granicę poziomów wartości dla recency za pomocą kwantyli."
   ]
  },
  {
   "cell_type": "code",
   "execution_count": 24,
   "metadata": {},
   "outputs": [],
   "source": [
    "polaczone_monetary = pd.merge(customer, orders, on=\"customerid\")\n",
    "polaczone_monetary = polaczone_monetary[polaczone_monetary['orderdate'] <= \"2016-01-01\"]\n",
    "kwota = polaczone_monetary.groupby([\"householdid\"])['totalprice'].mean().to_frame()\n",
    "kwota.columns= [\"srednia kwota\"]\n",
    "monetary_kwantyle = kwota['srednia kwota'].quantile(rzad_kwantyli)\n",
    "ustaw_poziomy(kwota,'srednia kwota',monetary_kwantyle)"
   ]
  },
  {
   "cell_type": "code",
   "execution_count": 25,
   "metadata": {},
   "outputs": [
    {
     "data": {
      "text/html": [
       "<div>\n",
       "<style scoped>\n",
       "    .dataframe tbody tr th:only-of-type {\n",
       "        vertical-align: middle;\n",
       "    }\n",
       "\n",
       "    .dataframe tbody tr th {\n",
       "        vertical-align: top;\n",
       "    }\n",
       "\n",
       "    .dataframe thead th {\n",
       "        text-align: right;\n",
       "    }\n",
       "</style>\n",
       "<table border=\"1\" class=\"dataframe\">\n",
       "  <thead>\n",
       "    <tr style=\"text-align: right;\">\n",
       "      <th></th>\n",
       "      <th>srednia kwota</th>\n",
       "      <th>wartosc</th>\n",
       "    </tr>\n",
       "    <tr>\n",
       "      <th>householdid</th>\n",
       "      <th></th>\n",
       "      <th></th>\n",
       "    </tr>\n",
       "  </thead>\n",
       "  <tbody>\n",
       "    <tr>\n",
       "      <th>18442778</th>\n",
       "      <td>9848.96</td>\n",
       "      <td>5</td>\n",
       "    </tr>\n",
       "    <tr>\n",
       "      <th>51035891</th>\n",
       "      <td>8830.00</td>\n",
       "      <td>5</td>\n",
       "    </tr>\n",
       "    <tr>\n",
       "      <th>36213508</th>\n",
       "      <td>6920.00</td>\n",
       "      <td>5</td>\n",
       "    </tr>\n",
       "    <tr>\n",
       "      <th>48765412</th>\n",
       "      <td>6625.00</td>\n",
       "      <td>5</td>\n",
       "    </tr>\n",
       "    <tr>\n",
       "      <th>36208040</th>\n",
       "      <td>6568.62</td>\n",
       "      <td>5</td>\n",
       "    </tr>\n",
       "  </tbody>\n",
       "</table>\n",
       "</div>"
      ],
      "text/plain": [
       "             srednia kwota  wartosc\n",
       "householdid                        \n",
       "18442778           9848.96        5\n",
       "51035891           8830.00        5\n",
       "36213508           6920.00        5\n",
       "48765412           6625.00        5\n",
       "36208040           6568.62        5"
      ]
     },
     "execution_count": 25,
     "metadata": {},
     "output_type": "execute_result"
    }
   ],
   "source": [
    "\n",
    "kwota.sort_values(\"srednia kwota\", ascending=False).head()"
   ]
  },
  {
   "cell_type": "markdown",
   "metadata": {},
   "source": [
    "**Tabela 3.** Największa średnia kwota dla Monetary"
   ]
  },
  {
   "cell_type": "markdown",
   "metadata": {},
   "source": [
    "### 8.2. Wyświetlanie wykresu Monetary"
   ]
  },
  {
   "cell_type": "code",
   "execution_count": 26,
   "metadata": {},
   "outputs": [
    {
     "data": {
      "image/png": "[encoded data removed]",
      "text/plain": [
       "<Figure size 432x288 with 1 Axes>"
      ]
     },
     "metadata": {
      "needs_background": "light"
     },
     "output_type": "display_data"
    }
   ],
   "source": [
    "kwantyle_wykres(monetary_kwantyle)"
   ]
  },
  {
   "cell_type": "markdown",
   "metadata": {},
   "source": [
    "**Rys. 3**  Wykres Monetary"
   ]
  },
  {
   "cell_type": "markdown",
   "metadata": {},
   "source": [
    "### 8.3. Wnioski \n",
    "\n",
    "Aby dokładnie określić wartość Monetary należało najpierw:\n",
    "- wyliczyć średnią ilość wydawanych pieniędzy podczas zakupów przez konkretne gospodarstwo domowe,\n",
    "- następnie przypisać wartości. \n",
    "\n",
    "Zarówno jak w poprzednich przypadkach na podstawie tych danych zostały utworzone wartości za pomocą kwantyli dla danego gospodarstwa. \n",
    "\n",
    "Znając wartości został utworzony wykres przedstawiony na **Rys. 3.** \n",
    "Na podstawie wykresu można zauważyć, że: \n",
    "- 20% gospodarstw wydaje średnio na zakupy 14 dolarów \n",
    "- 40% gospodarstw wydaje średnio na zakupy 21 dolarów\n",
    "- 60% gospodarstw wydaje średnio na zakupy 29 dolarów\n",
    "- 80% gospodarstw wydaje średnio na zakupy 60 dolarów\n",
    "\n",
    "Najważniejsze gospodarstwa znajdują się tym razem w tej części gdzie wydają średnio więcej niż 60 dolarów na zakupy. Dostały one wartość klasyfikacji równą 5 - czyli największą i jest to odwrotna sytuacja niż w przypadku Recency oraz Frequency (tam 5 było wartością najgorszą).    \n",
    "\n",
    "\n",
    "\n",
    "Podsumowując najlepszymi gospodarstwi dla nas są te, w których osoby kupują często, a także w krótkim odstępie czasowym i wydają na takie zakupy powyżej 60 $. Możemy nadal brać pod uwagę kilka zmiennych które pomogą nam lepiej opisać gospodarstwa i klientów, oraz umożliwią danej firmie zwiększenie sprzedaży, a co za tym idzie i zysków."
   ]
  },
  {
   "cell_type": "markdown",
   "metadata": {},
   "source": [
    "# 9. Tabela podsumowująca wartości RFM"
   ]
  },
  {
   "cell_type": "code",
   "execution_count": 27,
   "metadata": {},
   "outputs": [],
   "source": [
    "index = granice_kwantyli \n",
    "recency = []\n",
    "frequency = []\n",
    "monetary = []\n",
    "for i in index:\n",
    "    recency.append(kwantyle[i])\n",
    "    frequency.append(frequency_kwantyle[i])\n",
    "    monetary.append(np.round(monetary_kwantyle[i],2))\n",
    "    \n",
    "recency_series = pd.Series(recency, index=index)\n",
    "frequency_series = pd.Series(frequency, index=index)\n",
    "monetary_series = pd.Series(monetary, index=index)\n",
    "\n",
    "frame = {\n",
    "    'Recency': recency_series,\n",
    "    'Frequency': frequency_series,\n",
    "    'Monetary': monetary_series\n",
    "    \n",
    "}\n"
   ]
  },
  {
   "cell_type": "code",
   "execution_count": 28,
   "metadata": {},
   "outputs": [
    {
     "data": {
      "text/html": [
       "<div>\n",
       "<style scoped>\n",
       "    .dataframe tbody tr th:only-of-type {\n",
       "        vertical-align: middle;\n",
       "    }\n",
       "\n",
       "    .dataframe tbody tr th {\n",
       "        vertical-align: top;\n",
       "    }\n",
       "\n",
       "    .dataframe thead th {\n",
       "        text-align: right;\n",
       "    }\n",
       "</style>\n",
       "<table border=\"1\" class=\"dataframe\">\n",
       "  <thead>\n",
       "    <tr style=\"text-align: right;\">\n",
       "      <th></th>\n",
       "      <th>Recency</th>\n",
       "      <th>Frequency</th>\n",
       "      <th>Monetary</th>\n",
       "    </tr>\n",
       "  </thead>\n",
       "  <tbody>\n",
       "    <tr>\n",
       "      <th>0.2</th>\n",
       "      <td>381.0</td>\n",
       "      <td>373.0</td>\n",
       "      <td>14.95</td>\n",
       "    </tr>\n",
       "    <tr>\n",
       "      <th>0.4</th>\n",
       "      <td>615.0</td>\n",
       "      <td>595.0</td>\n",
       "      <td>21.00</td>\n",
       "    </tr>\n",
       "    <tr>\n",
       "      <th>0.6</th>\n",
       "      <td>1068.0</td>\n",
       "      <td>975.0</td>\n",
       "      <td>29.95</td>\n",
       "    </tr>\n",
       "    <tr>\n",
       "      <th>0.8</th>\n",
       "      <td>1697.0</td>\n",
       "      <td>1629.0</td>\n",
       "      <td>60.58</td>\n",
       "    </tr>\n",
       "  </tbody>\n",
       "</table>\n",
       "</div>"
      ],
      "text/plain": [
       "     Recency  Frequency  Monetary\n",
       "0.2    381.0      373.0     14.95\n",
       "0.4    615.0      595.0     21.00\n",
       "0.6   1068.0      975.0     29.95\n",
       "0.8   1697.0     1629.0     60.58"
      ]
     },
     "execution_count": 28,
     "metadata": {},
     "output_type": "execute_result"
    }
   ],
   "source": [
    "pd.DataFrame(frame)"
   ]
  },
  {
   "cell_type": "markdown",
   "metadata": {},
   "source": [
    "**Tabela 4.** Przedstawienie wartości RFM względem breakpointów "
   ]
  },
  {
   "cell_type": "markdown",
   "metadata": {},
   "source": [
    " **Uwagi:** Wynik monetary został zaokrąglony do dwóch miejs po przecinku. "
   ]
  },
  {
   "cell_type": "markdown",
   "metadata": {},
   "source": [
    "# 10. RFM Score \n",
    "\n",
    "Zostało wyznaczone RFM Score, które polega na dołączeniu wartości poszczególnych wskaźników. W przypadku, gdy:\n",
    "- R = 1, \n",
    "- F = 2, \n",
    "- M = 3,    \n",
    "to otrzymujemy RFM Score równy 123.    \n",
    "\n",
    "Oczekiwanym wynikiem dla tej wartości jest **115**. Najgorszy wynik w RFM Score wynosi: **551**. "
   ]
  },
  {
   "cell_type": "code",
   "execution_count": 29,
   "metadata": {},
   "outputs": [
    {
     "data": {
      "text/html": [
       "<div>\n",
       "<style scoped>\n",
       "    .dataframe tbody tr th:only-of-type {\n",
       "        vertical-align: middle;\n",
       "    }\n",
       "\n",
       "    .dataframe tbody tr th {\n",
       "        vertical-align: top;\n",
       "    }\n",
       "\n",
       "    .dataframe thead th {\n",
       "        text-align: right;\n",
       "    }\n",
       "</style>\n",
       "<table border=\"1\" class=\"dataframe\">\n",
       "  <thead>\n",
       "    <tr style=\"text-align: right;\">\n",
       "      <th></th>\n",
       "      <th>Recency</th>\n",
       "      <th>Wartość Recency</th>\n",
       "      <th>Frequency</th>\n",
       "      <th>Wartość Frequency</th>\n",
       "      <th>Monetary</th>\n",
       "      <th>Wartość Monetary</th>\n",
       "      <th>RFM Score</th>\n",
       "    </tr>\n",
       "    <tr>\n",
       "      <th>householdid</th>\n",
       "      <th></th>\n",
       "      <th></th>\n",
       "      <th></th>\n",
       "      <th></th>\n",
       "      <th></th>\n",
       "      <th></th>\n",
       "      <th></th>\n",
       "    </tr>\n",
       "  </thead>\n",
       "  <tbody>\n",
       "    <tr>\n",
       "      <th>18111489</th>\n",
       "      <td>1587</td>\n",
       "      <td>4</td>\n",
       "      <td>1587.0</td>\n",
       "      <td>4</td>\n",
       "      <td>10.95</td>\n",
       "      <td>1</td>\n",
       "      <td>441</td>\n",
       "    </tr>\n",
       "    <tr>\n",
       "      <th>18111580</th>\n",
       "      <td>417</td>\n",
       "      <td>2</td>\n",
       "      <td>417.0</td>\n",
       "      <td>2</td>\n",
       "      <td>99.95</td>\n",
       "      <td>5</td>\n",
       "      <td>225</td>\n",
       "    </tr>\n",
       "    <tr>\n",
       "      <th>18111642</th>\n",
       "      <td>437</td>\n",
       "      <td>2</td>\n",
       "      <td>437.0</td>\n",
       "      <td>2</td>\n",
       "      <td>0.00</td>\n",
       "      <td>1</td>\n",
       "      <td>221</td>\n",
       "    </tr>\n",
       "    <tr>\n",
       "      <th>18111668</th>\n",
       "      <td>697</td>\n",
       "      <td>3</td>\n",
       "      <td>697.0</td>\n",
       "      <td>3</td>\n",
       "      <td>10.75</td>\n",
       "      <td>1</td>\n",
       "      <td>331</td>\n",
       "    </tr>\n",
       "    <tr>\n",
       "      <th>18111771</th>\n",
       "      <td>1812</td>\n",
       "      <td>5</td>\n",
       "      <td>1812.0</td>\n",
       "      <td>5</td>\n",
       "      <td>15.25</td>\n",
       "      <td>2</td>\n",
       "      <td>552</td>\n",
       "    </tr>\n",
       "  </tbody>\n",
       "</table>\n",
       "</div>"
      ],
      "text/plain": [
       "             Recency  Wartość Recency  Frequency  Wartość Frequency  Monetary  \\\n",
       "householdid                                                                     \n",
       "18111489        1587                4     1587.0                  4     10.95   \n",
       "18111580         417                2      417.0                  2     99.95   \n",
       "18111642         437                2      437.0                  2      0.00   \n",
       "18111668         697                3      697.0                  3     10.75   \n",
       "18111771        1812                5     1812.0                  5     15.25   \n",
       "\n",
       "             Wartość Monetary  RFM Score  \n",
       "householdid                               \n",
       "18111489                    1        441  \n",
       "18111580                    5        225  \n",
       "18111642                    1        221  \n",
       "18111668                    1        331  \n",
       "18111771                    2        552  "
      ]
     },
     "execution_count": 29,
     "metadata": {},
     "output_type": "execute_result"
    }
   ],
   "source": [
    "analiza_RFM = pd.merge(liczba_zamowien, kwota, on=\"householdid\")\n",
    "analiza_RFM = pd.merge(analiza_RFM, x, on=\"householdid\")\n",
    "analiza_RFM = analiza_RFM[['recency', 'wartosc','Frequency', 'wartosc_x', 'srednia kwota', 'wartosc_y']] \n",
    "analiza_RFM.columns= [\"Recency\",\"Wartość Recency\",\"Frequency\", \"Wartość Frequency\", \"Monetary\", \"Wartość Monetary\"]\n",
    "analiza_RFM[\"RFM Score\"] = analiza_RFM[\"Wartość Recency\"]*100 + analiza_RFM[\"Wartość Frequency\"]*10 + analiza_RFM[\"Wartość Monetary\"]\n",
    "\n",
    "analiza_RFM.head()"
   ]
  },
  {
   "cell_type": "markdown",
   "metadata": {},
   "source": [
    "**Tabela 5.** Przedstawienie wartości dla R, F i M oraz RFM Score "
   ]
  },
  {
   "cell_type": "code",
   "execution_count": 30,
   "metadata": {},
   "outputs": [],
   "source": [
    "wykres_bubbles_count = analiza_RFM.groupby(\"RFM Score\").count()\n",
    "wykres_bubbles_count = wykres_bubbles_count.reset_index().drop(columns=[\"Wartość Recency\", \"Frequency\", \"Wartość Frequency\", \"Monetary\", \"Wartość Monetary\"])\n",
    "wykres_bubbles_count.columns = [\"RFM Score\", \"count\"]\n",
    "wykres_bubbles_count[\"R\"] = wykres_bubbles_count[\"RFM Score\"].astype(str).str[0].astype(int)\n",
    "wykres_bubbles_count[\"FM\"] = wykres_bubbles_count[\"RFM Score\"].astype(str).str[1:].astype(int)"
   ]
  },
  {
   "cell_type": "code",
   "execution_count": 31,
   "metadata": {},
   "outputs": [
    {
     "data": {
      "text/plain": [
       "<matplotlib.collections.PathCollection at 0x25cb79da160>"
      ]
     },
     "execution_count": 31,
     "metadata": {},
     "output_type": "execute_result"
    },
    {
     "data": {
      "image/png": "[encoded data removed]",
      "text/plain": [
       "<Figure size 1080x504 with 1 Axes>"
      ]
     },
     "metadata": {
      "needs_background": "light"
     },
     "output_type": "display_data"
    }
   ],
   "source": [
    "fig = plt.figure(figsize=(15, 7))\n",
    "plt.scatter(\n",
    "    wykres_bubbles_count[\"FM\"], \n",
    "    wykres_bubbles_count[\"R\"] ,\n",
    "    s=np.power(wykres_bubbles_count[\"count\"], 1/1.4),\n",
    "    edgecolors=\"0\"\n",
    ")"
   ]
  },
  {
   "cell_type": "markdown",
   "metadata": {},
   "source": [
    "**Rys.4** Wykres bąbelkowy 2D pokazujący korelację pomiędzy Recency a Frequency-Monetary\n",
    "\n",
    "Wykres pokazuje komórki RFM dla osi wertykalnej jest Recency, a dla horyzontalnej frequency i monetary. Duże bąbelki pokazują największą korelację pomiędzy wartościami, a także pokazują ilość gospodarstw.\n"
   ]
  },
  {
   "cell_type": "markdown",
   "metadata": {},
   "source": [
    "# 11. Wyznaczanie punktacji dla kientów\n",
    "\n",
    "W celu unifikacji danych dla RFM zostanie w tym momencie zamieniona skala dla wskaźnika Monetary. Wartość 1 jest najlepszą, zaś 5 jest wartością niepożądaną. Umożliwi to określenie liczby klientów (gospodarstw domowych) pod względem zadanej punktacji.               \n",
    "\n",
    "\n",
    "\n",
    "\n",
    "**Wskaźnik Score**, czyli punktacji klientów wyznaczany jest na podstawie zsumowanych wartośći R,F i M. "
   ]
  },
  {
   "cell_type": "code",
   "execution_count": 32,
   "metadata": {},
   "outputs": [
    {
     "data": {
      "text/html": [
       "<div>\n",
       "<style scoped>\n",
       "    .dataframe tbody tr th:only-of-type {\n",
       "        vertical-align: middle;\n",
       "    }\n",
       "\n",
       "    .dataframe tbody tr th {\n",
       "        vertical-align: top;\n",
       "    }\n",
       "\n",
       "    .dataframe thead th {\n",
       "        text-align: right;\n",
       "    }\n",
       "</style>\n",
       "<table border=\"1\" class=\"dataframe\">\n",
       "  <thead>\n",
       "    <tr style=\"text-align: right;\">\n",
       "      <th></th>\n",
       "      <th>Recency</th>\n",
       "      <th>Wartość Recency</th>\n",
       "      <th>Frequency</th>\n",
       "      <th>Wartość Frequency</th>\n",
       "      <th>Monetary</th>\n",
       "      <th>Wartość Monetary</th>\n",
       "      <th>RFM Score</th>\n",
       "      <th>Score</th>\n",
       "    </tr>\n",
       "    <tr>\n",
       "      <th>householdid</th>\n",
       "      <th></th>\n",
       "      <th></th>\n",
       "      <th></th>\n",
       "      <th></th>\n",
       "      <th></th>\n",
       "      <th></th>\n",
       "      <th></th>\n",
       "      <th></th>\n",
       "    </tr>\n",
       "  </thead>\n",
       "  <tbody>\n",
       "    <tr>\n",
       "      <th>18111489</th>\n",
       "      <td>1587</td>\n",
       "      <td>4</td>\n",
       "      <td>1587.0</td>\n",
       "      <td>4</td>\n",
       "      <td>10.95</td>\n",
       "      <td>5</td>\n",
       "      <td>441</td>\n",
       "      <td>13</td>\n",
       "    </tr>\n",
       "    <tr>\n",
       "      <th>18111580</th>\n",
       "      <td>417</td>\n",
       "      <td>2</td>\n",
       "      <td>417.0</td>\n",
       "      <td>2</td>\n",
       "      <td>99.95</td>\n",
       "      <td>1</td>\n",
       "      <td>225</td>\n",
       "      <td>5</td>\n",
       "    </tr>\n",
       "    <tr>\n",
       "      <th>18111642</th>\n",
       "      <td>437</td>\n",
       "      <td>2</td>\n",
       "      <td>437.0</td>\n",
       "      <td>2</td>\n",
       "      <td>0.00</td>\n",
       "      <td>5</td>\n",
       "      <td>221</td>\n",
       "      <td>9</td>\n",
       "    </tr>\n",
       "    <tr>\n",
       "      <th>18111668</th>\n",
       "      <td>697</td>\n",
       "      <td>3</td>\n",
       "      <td>697.0</td>\n",
       "      <td>3</td>\n",
       "      <td>10.75</td>\n",
       "      <td>5</td>\n",
       "      <td>331</td>\n",
       "      <td>11</td>\n",
       "    </tr>\n",
       "    <tr>\n",
       "      <th>18111771</th>\n",
       "      <td>1812</td>\n",
       "      <td>5</td>\n",
       "      <td>1812.0</td>\n",
       "      <td>5</td>\n",
       "      <td>15.25</td>\n",
       "      <td>4</td>\n",
       "      <td>552</td>\n",
       "      <td>14</td>\n",
       "    </tr>\n",
       "  </tbody>\n",
       "</table>\n",
       "</div>"
      ],
      "text/plain": [
       "             Recency  Wartość Recency  Frequency  Wartość Frequency  Monetary  \\\n",
       "householdid                                                                     \n",
       "18111489        1587                4     1587.0                  4     10.95   \n",
       "18111580         417                2      417.0                  2     99.95   \n",
       "18111642         437                2      437.0                  2      0.00   \n",
       "18111668         697                3      697.0                  3     10.75   \n",
       "18111771        1812                5     1812.0                  5     15.25   \n",
       "\n",
       "             Wartość Monetary  RFM Score  Score  \n",
       "householdid                                      \n",
       "18111489                    5        441     13  \n",
       "18111580                    1        225      5  \n",
       "18111642                    5        221      9  \n",
       "18111668                    5        331     11  \n",
       "18111771                    4        552     14  "
      ]
     },
     "execution_count": 32,
     "metadata": {},
     "output_type": "execute_result"
    }
   ],
   "source": [
    "punktacja_rmf = analiza_RFM.copy()\n",
    "punktacja_rmf[\"Wartość Monetary\"] = 6 - punktacja_rmf[\"Wartość Monetary\"]\n",
    "punktacja_rmf[\"Score\"] = punktacja_rmf[\"Wartość Monetary\"] + punktacja_rmf[\"Wartość Frequency\"] + punktacja_rmf[\"Wartość Recency\"]\n",
    "punktacja_rmf.head()"
   ]
  },
  {
   "cell_type": "markdown",
   "metadata": {},
   "source": [
    "**Tabela 6.** Punktacja dla gospodarstw "
   ]
  },
  {
   "cell_type": "code",
   "execution_count": 33,
   "metadata": {},
   "outputs": [
    {
     "data": {
      "text/plain": [
       "<matplotlib.axes._subplots.AxesSubplot at 0x25cb7365400>"
      ]
     },
     "execution_count": 33,
     "metadata": {},
     "output_type": "execute_result"
    },
    {
     "data": {
      "image/png": "[encoded data removed]",
      "text/plain": [
       "<Figure size 1080x504 with 1 Axes>"
      ]
     },
     "metadata": {
      "needs_background": "light"
     },
     "output_type": "display_data"
    }
   ],
   "source": [
    "punktacja_rmf_ilosc= punktacja_rmf.groupby([\"Score\"])[\"Recency\"].count()\n",
    "punktacja_rmf_ilosc = punktacja_rmf_ilosc/punktacja_rmf_ilosc.sum()\n",
    "fig = plt.figure(figsize=(15, 7))\n",
    "punktacja_rmf_ilosc.plot.bar()"
   ]
  },
  {
   "cell_type": "markdown",
   "metadata": {},
   "source": [
    "**Rys. 5** Wykres ilości zakwalifikowanych klientów według punktacji\n",
    "\n",
    "Wykres pozwala nam zauważyć, że odsetek klientów graniczny (wartości 3 i 15) jest podobny. Oznacza to, że oceny najbardziej pozytywne i najbardziej negatywne zostały uzyskane przez podobną liczbę klientów. Następne wartości na wykresie nie pozwalają nam na ocenienie dokładnych przyznanych ocen, ponieważ dla wartości 4 w Score, możliwe są kombinacje: 112, 121, 211. Najwyższe wartości to 7 i 9. "
   ]
  },
  {
   "cell_type": "code",
   "execution_count": 34,
   "metadata": {},
   "outputs": [
    {
     "data": {
      "text/plain": [
       "<matplotlib.axes._subplots.AxesSubplot at 0x25cb83df438>"
      ]
     },
     "execution_count": 34,
     "metadata": {},
     "output_type": "execute_result"
    },
    {
     "data": {
      "image/png": "[encoded data removed]",
      "text/plain": [
       "<Figure size 1080x504 with 1 Axes>"
      ]
     },
     "metadata": {
      "needs_background": "light"
     },
     "output_type": "display_data"
    }
   ],
   "source": [
    "punktacja_rmf_ilosc= punktacja_rmf.groupby([\"Score\"])[\"Monetary\"].sum()\n",
    "punktacja_rmf_ilosc = punktacja_rmf_ilosc/punktacja_rmf_ilosc.mean()\n",
    "fig = plt.figure(figsize=(15, 7))\n",
    "punktacja_rmf_ilosc.plot.bar()"
   ]
  },
  {
   "cell_type": "markdown",
   "metadata": {},
   "source": [
    "**Rys. 6** Procentowy udział średniej wartości monetary w całości"
   ]
  },
  {
   "cell_type": "markdown",
   "metadata": {},
   "source": [
    "Wykres ten przedstawia uzupełnienie **Rys. 5** i pozwala określić, że największy zysk przynoszą klienci, którzy uzyskali najlepsze oceny. "
   ]
  },
  {
   "cell_type": "markdown",
   "metadata": {},
   "source": [
    "# 12. Analiza RFM"
   ]
  },
  {
   "cell_type": "markdown",
   "metadata": {},
   "source": [
    "### 12.1 Macierz FM \n",
    "\n",
    "Wyznaczono grupy odbiorców ze względu na wskaźniki F i M ze wzgldu na uławienie klasyfikacji. "
   ]
  },
  {
   "cell_type": "code",
   "execution_count": 35,
   "metadata": {},
   "outputs": [
    {
     "data": {
      "text/html": [
       "<div>\n",
       "<style scoped>\n",
       "    .dataframe tbody tr th:only-of-type {\n",
       "        vertical-align: middle;\n",
       "    }\n",
       "\n",
       "    .dataframe tbody tr th {\n",
       "        vertical-align: top;\n",
       "    }\n",
       "\n",
       "    .dataframe thead th {\n",
       "        text-align: right;\n",
       "    }\n",
       "</style>\n",
       "<table border=\"1\" class=\"dataframe\">\n",
       "  <thead>\n",
       "    <tr style=\"text-align: right;\">\n",
       "      <th></th>\n",
       "      <th>Recency</th>\n",
       "      <th>Wartość Recency</th>\n",
       "      <th>Frequency</th>\n",
       "      <th>Wartość Frequency</th>\n",
       "      <th>Monetary</th>\n",
       "      <th>Wartość Monetary</th>\n",
       "      <th>RFM Score</th>\n",
       "      <th>Rodzaj klienta [FM]</th>\n",
       "    </tr>\n",
       "    <tr>\n",
       "      <th>householdid</th>\n",
       "      <th></th>\n",
       "      <th></th>\n",
       "      <th></th>\n",
       "      <th></th>\n",
       "      <th></th>\n",
       "      <th></th>\n",
       "      <th></th>\n",
       "      <th></th>\n",
       "    </tr>\n",
       "  </thead>\n",
       "  <tbody>\n",
       "    <tr>\n",
       "      <th>18111489</th>\n",
       "      <td>1587</td>\n",
       "      <td>4</td>\n",
       "      <td>1587.0</td>\n",
       "      <td>4</td>\n",
       "      <td>10.95</td>\n",
       "      <td>1</td>\n",
       "      <td>441</td>\n",
       "      <td>klienci w hibernacji</td>\n",
       "    </tr>\n",
       "    <tr>\n",
       "      <th>18111580</th>\n",
       "      <td>417</td>\n",
       "      <td>2</td>\n",
       "      <td>417.0</td>\n",
       "      <td>2</td>\n",
       "      <td>99.95</td>\n",
       "      <td>5</td>\n",
       "      <td>225</td>\n",
       "      <td>lojalni</td>\n",
       "    </tr>\n",
       "    <tr>\n",
       "      <th>18111642</th>\n",
       "      <td>437</td>\n",
       "      <td>2</td>\n",
       "      <td>437.0</td>\n",
       "      <td>2</td>\n",
       "      <td>0.00</td>\n",
       "      <td>1</td>\n",
       "      <td>221</td>\n",
       "      <td>lojalni</td>\n",
       "    </tr>\n",
       "    <tr>\n",
       "      <th>18111668</th>\n",
       "      <td>697</td>\n",
       "      <td>3</td>\n",
       "      <td>697.0</td>\n",
       "      <td>3</td>\n",
       "      <td>10.75</td>\n",
       "      <td>1</td>\n",
       "      <td>331</td>\n",
       "      <td>wymagajacy uwagi</td>\n",
       "    </tr>\n",
       "    <tr>\n",
       "      <th>18111771</th>\n",
       "      <td>1812</td>\n",
       "      <td>5</td>\n",
       "      <td>1812.0</td>\n",
       "      <td>5</td>\n",
       "      <td>15.25</td>\n",
       "      <td>2</td>\n",
       "      <td>552</td>\n",
       "      <td>klienci w hibernacji</td>\n",
       "    </tr>\n",
       "  </tbody>\n",
       "</table>\n",
       "</div>"
      ],
      "text/plain": [
       "             Recency  Wartość Recency  Frequency  Wartość Frequency  Monetary  \\\n",
       "householdid                                                                     \n",
       "18111489        1587                4     1587.0                  4     10.95   \n",
       "18111580         417                2      417.0                  2     99.95   \n",
       "18111642         437                2      437.0                  2      0.00   \n",
       "18111668         697                3      697.0                  3     10.75   \n",
       "18111771        1812                5     1812.0                  5     15.25   \n",
       "\n",
       "             Wartość Monetary  RFM Score   Rodzaj klienta [FM]  \n",
       "householdid                                                     \n",
       "18111489                    1        441  klienci w hibernacji  \n",
       "18111580                    5        225               lojalni  \n",
       "18111642                    1        221               lojalni  \n",
       "18111668                    1        331      wymagajacy uwagi  \n",
       "18111771                    2        552  klienci w hibernacji  "
      ]
     },
     "execution_count": 35,
     "metadata": {},
     "output_type": "execute_result"
    }
   ],
   "source": [
    "rodzaj_klienta_mapa = {\n",
    "    r'[4-5][4-5]': 'klienci w hibernacji',\n",
    "    r'[4-5][2-3]': 'klienci zagrożeni',\n",
    "    r'[4-5]1': 'klienci nie do stracenia',\n",
    "    r'3[4-5]': 'uśpieni klienci',\n",
    "    r'33': 'wymagajacy uwagi',\n",
    "    r'[2-3][1-2]': 'lojalni',\n",
    "    r'25': 'potencjalnie obiecujący',\n",
    "    r'15': 'nowi klienci',\n",
    "    r'[1-2][3-4]': 'potencjalni najlepsi',\n",
    "    r'1[1-2]': 'najlepsi klienci',\n",
    "}\n",
    "\n",
    "analiza_RFM['Rodzaj klienta [FM]'] = analiza_RFM['Wartość Recency'].map(str) + analiza_RFM['Wartość Frequency'].map(str)\n",
    "analiza_RFM['Rodzaj klienta [FM]'] = analiza_RFM['Rodzaj klienta [FM]'].replace(rodzaj_klienta_mapa, regex=True)\n",
    "analiza_RFM.head()"
   ]
  },
  {
   "cell_type": "markdown",
   "metadata": {},
   "source": [
    "**Tabela 7.** Zaklasyfikowanie gospodarstw ze względu na rodzaj klienta "
   ]
  },
  {
   "cell_type": "code",
   "execution_count": 36,
   "metadata": {},
   "outputs": [
    {
     "data": {
      "text/plain": [
       "Text(3.3, 4, 'klienci w hibernacji')"
      ]
     },
     "execution_count": 36,
     "metadata": {},
     "output_type": "execute_result"
    },
    {
     "data": {
      "image/png": "[encoded data removed]",
      "text/plain": [
       "<Figure size 720x504 with 2 Axes>"
      ]
     },
     "metadata": {
      "needs_background": "light"
     },
     "output_type": "display_data"
    }
   ],
   "source": [
    "recency = []\n",
    "frequency = []\n",
    "values = []\n",
    "rodzaj_klienta_mapa_numer = {\n",
    "    r'[4-5][4-5]': 1,\n",
    "    r'[4-5][2-3]': 2,\n",
    "    r'[4-5]1': 3,\n",
    "    r'3[4-5]': 4,\n",
    "    r'33': 5,\n",
    "    r'25': 5,\n",
    "    r'15': 6,\n",
    "    r'[2-3][1-2]': 7,\n",
    "    r'[1-2][3-4]': 8,\n",
    "    r'1[1-2]': 9,\n",
    "}\n",
    "for r in range(min(analiza_RFM[\"Wartość Frequency\"]),max(analiza_RFM[\"Wartość Frequency\"])+1):\n",
    "    for f in range(min(analiza_RFM[\"Wartość Recency\"]),max(analiza_RFM[\"Wartość Recency\"])+1):\n",
    "        recency.append(r)\n",
    "        frequency.append(f)\n",
    "        val_str = \"{}{}\".format(r,f)\n",
    "        for k in rodzaj_klienta_mapa_numer:\n",
    "            if re.compile(k).match(val_str):\n",
    "                values.append(rodzaj_klienta_mapa_numer[k])\n",
    "                break\n",
    "\n",
    "table = pd.DataFrame({\n",
    "    \"recency\": recency,\n",
    "    \"frequency\": frequency,\n",
    "    \"values\": values\n",
    "}\n",
    ")\n",
    "macierz = table.pivot(\"recency\",\"frequency\",\"values\")\n",
    "fig, ax = plt.subplots(figsize=(10, 7))\n",
    "sn.heatmap(macierz,ax=ax,cmap=\"Set3\")\n",
    "ax.text(0.3,0.5, rodzaj_klienta_mapa[r'1[1-2]'], fontsize=10)\n",
    "ax.text(1.3,4, rodzaj_klienta_mapa[r'[4-5][2-3]'], fontsize=10)\n",
    "ax.text(0.2,4.3,rodzaj_klienta_mapa[r'[4-5]1'].replace(' ',\"\\n\"), fontsize=10)\n",
    "ax.text(3.5,2.5, rodzaj_klienta_mapa[r'3[4-5]'], fontsize=10)\n",
    "ax.text(2.2,2.7, rodzaj_klienta_mapa[r'33'].replace(' ',\"\\n\"), fontsize=10)\n",
    "ax.text(4,1.5, rodzaj_klienta_mapa[r'25'].replace(' ',\"\\n\"), fontsize=8)\n",
    "ax.text(4.05,0.5, rodzaj_klienta_mapa[r'15'], fontsize=8)\n",
    "ax.text(0.87,2, rodzaj_klienta_mapa[r'[2-3][1-2]'], fontsize=10)\n",
    "ax.text(2.35,0.5, rodzaj_klienta_mapa[r'[1-2][3-4]'], fontsize=10)\n",
    "ax.text(3.3,4, rodzaj_klienta_mapa[r'[4-5][4-5]'], fontsize=10)"
   ]
  },
  {
   "cell_type": "markdown",
   "metadata": {},
   "source": [
    "**Rys. 7** Macierz przedstawiająca rodzaje klientów względem wskaźników Frequency i Recency. \n",
    "\n",
    "Według macierzy podzielono klientów na następujące rodzaje: \n",
    "- **najlepsi** - kupują najczęściej, kupują w małym odstępie czasu, wydają najwięcej\n",
    "- **lojalni** -\tkupują regularnie i często\n",
    "- **potencjalnie obiecujący** - nowi klienci ze średnią częstotliwością.\n",
    "- **nowi** - Kupił coś ostatnio, ale nie często.\n",
    "- **potencjalnie obiecujący** - Ostatni kupili, ale kupują rzadko\n",
    "- **wymagający uwagi** - grupa, która znajuduje się w wartościach dla R i F: 3, 3. \n",
    "- **uśpieni** - dawno kupi i nieczęsto \n",
    "- **zagrożoni** - \tkupowali często, ale dawno temu.\n",
    "- **nie do stracenia** - często kupowali, ale nie dokonali zakupu od dłuższego czasu\n",
    "- **w hibernacji** - najgorszy wariant, kupowali bardzo dawno i bardzo rzadko\n"
   ]
  },
  {
   "cell_type": "markdown",
   "metadata": {},
   "source": [
    "### 12.2. Wyznaczenie listy najlepszych klientów "
   ]
  },
  {
   "cell_type": "code",
   "execution_count": 37,
   "metadata": {},
   "outputs": [
    {
     "data": {
      "text/html": [
       "<div>\n",
       "<style scoped>\n",
       "    .dataframe tbody tr th:only-of-type {\n",
       "        vertical-align: middle;\n",
       "    }\n",
       "\n",
       "    .dataframe tbody tr th {\n",
       "        vertical-align: top;\n",
       "    }\n",
       "\n",
       "    .dataframe thead th {\n",
       "        text-align: right;\n",
       "    }\n",
       "</style>\n",
       "<table border=\"1\" class=\"dataframe\">\n",
       "  <thead>\n",
       "    <tr style=\"text-align: right;\">\n",
       "      <th></th>\n",
       "      <th>Recency</th>\n",
       "      <th>Wartość Recency</th>\n",
       "      <th>Frequency</th>\n",
       "      <th>Wartość Frequency</th>\n",
       "      <th>Monetary</th>\n",
       "      <th>Wartość Monetary</th>\n",
       "      <th>RFM Score</th>\n",
       "      <th>Rodzaj klienta [FM]</th>\n",
       "    </tr>\n",
       "    <tr>\n",
       "      <th>householdid</th>\n",
       "      <th></th>\n",
       "      <th></th>\n",
       "      <th></th>\n",
       "      <th></th>\n",
       "      <th></th>\n",
       "      <th></th>\n",
       "      <th></th>\n",
       "      <th></th>\n",
       "    </tr>\n",
       "  </thead>\n",
       "  <tbody>\n",
       "    <tr>\n",
       "      <th>18112559</th>\n",
       "      <td>263</td>\n",
       "      <td>1</td>\n",
       "      <td>263.0</td>\n",
       "      <td>1</td>\n",
       "      <td>0.00</td>\n",
       "      <td>1</td>\n",
       "      <td>111</td>\n",
       "      <td>najlepsi klienci</td>\n",
       "    </tr>\n",
       "    <tr>\n",
       "      <th>53970531</th>\n",
       "      <td>95</td>\n",
       "      <td>1</td>\n",
       "      <td>95.0</td>\n",
       "      <td>1</td>\n",
       "      <td>6.99</td>\n",
       "      <td>1</td>\n",
       "      <td>111</td>\n",
       "      <td>najlepsi klienci</td>\n",
       "    </tr>\n",
       "    <tr>\n",
       "      <th>42482824</th>\n",
       "      <td>373</td>\n",
       "      <td>1</td>\n",
       "      <td>373.0</td>\n",
       "      <td>2</td>\n",
       "      <td>14.40</td>\n",
       "      <td>1</td>\n",
       "      <td>121</td>\n",
       "      <td>najlepsi klienci</td>\n",
       "    </tr>\n",
       "    <tr>\n",
       "      <th>53970293</th>\n",
       "      <td>90</td>\n",
       "      <td>1</td>\n",
       "      <td>90.0</td>\n",
       "      <td>1</td>\n",
       "      <td>12.95</td>\n",
       "      <td>1</td>\n",
       "      <td>111</td>\n",
       "      <td>najlepsi klienci</td>\n",
       "    </tr>\n",
       "    <tr>\n",
       "      <th>19244246</th>\n",
       "      <td>149</td>\n",
       "      <td>1</td>\n",
       "      <td>149.0</td>\n",
       "      <td>1</td>\n",
       "      <td>6.29</td>\n",
       "      <td>1</td>\n",
       "      <td>111</td>\n",
       "      <td>najlepsi klienci</td>\n",
       "    </tr>\n",
       "  </tbody>\n",
       "</table>\n",
       "</div>"
      ],
      "text/plain": [
       "             Recency  Wartość Recency  Frequency  Wartość Frequency  Monetary  \\\n",
       "householdid                                                                     \n",
       "18112559         263                1      263.0                  1      0.00   \n",
       "53970531          95                1       95.0                  1      6.99   \n",
       "42482824         373                1      373.0                  2     14.40   \n",
       "53970293          90                1       90.0                  1     12.95   \n",
       "19244246         149                1      149.0                  1      6.29   \n",
       "\n",
       "             Wartość Monetary  RFM Score Rodzaj klienta [FM]  \n",
       "householdid                                                   \n",
       "18112559                    1        111    najlepsi klienci  \n",
       "53970531                    1        111    najlepsi klienci  \n",
       "42482824                    1        121    najlepsi klienci  \n",
       "53970293                    1        111    najlepsi klienci  \n",
       "19244246                    1        111    najlepsi klienci  "
      ]
     },
     "execution_count": 37,
     "metadata": {},
     "output_type": "execute_result"
    }
   ],
   "source": [
    "najlepszy_klient = analiza_RFM[analiza_RFM[\"Rodzaj klienta [FM]\"] == \"najlepsi klienci\"].sort_values('Wartość Monetary',ascending=True)\n",
    "najlepszy_klient.head()"
   ]
  },
  {
   "cell_type": "markdown",
   "metadata": {},
   "source": [
    "**Tabela 8.** Zestawienie najlepszych klientów"
   ]
  },
  {
   "cell_type": "code",
   "execution_count": 38,
   "metadata": {},
   "outputs": [
    {
     "name": "stdout",
     "output_type": "stream",
     "text": [
      "Ilosc najlepszych klientów:  27886\n"
     ]
    }
   ],
   "source": [
    "print(\"Ilosc najlepszych klientów: \", len(najlepszy_klient))"
   ]
  },
  {
   "cell_type": "markdown",
   "metadata": {},
   "source": [
    "### 12.3. Wyznaczenie listy średnich klientów "
   ]
  },
  {
   "cell_type": "code",
   "execution_count": 39,
   "metadata": {},
   "outputs": [
    {
     "data": {
      "text/html": [
       "<div>\n",
       "<style scoped>\n",
       "    .dataframe tbody tr th:only-of-type {\n",
       "        vertical-align: middle;\n",
       "    }\n",
       "\n",
       "    .dataframe tbody tr th {\n",
       "        vertical-align: top;\n",
       "    }\n",
       "\n",
       "    .dataframe thead th {\n",
       "        text-align: right;\n",
       "    }\n",
       "</style>\n",
       "<table border=\"1\" class=\"dataframe\">\n",
       "  <thead>\n",
       "    <tr style=\"text-align: right;\">\n",
       "      <th></th>\n",
       "      <th>Recency</th>\n",
       "      <th>Wartość Recency</th>\n",
       "      <th>Frequency</th>\n",
       "      <th>Wartość Frequency</th>\n",
       "      <th>Monetary</th>\n",
       "      <th>Wartość Monetary</th>\n",
       "      <th>RFM Score</th>\n",
       "      <th>Rodzaj klienta [FM]</th>\n",
       "    </tr>\n",
       "    <tr>\n",
       "      <th>householdid</th>\n",
       "      <th></th>\n",
       "      <th></th>\n",
       "      <th></th>\n",
       "      <th></th>\n",
       "      <th></th>\n",
       "      <th></th>\n",
       "      <th></th>\n",
       "      <th></th>\n",
       "    </tr>\n",
       "  </thead>\n",
       "  <tbody>\n",
       "    <tr>\n",
       "      <th>19205290</th>\n",
       "      <td>717</td>\n",
       "      <td>3</td>\n",
       "      <td>717.0</td>\n",
       "      <td>3</td>\n",
       "      <td>29.94</td>\n",
       "      <td>3</td>\n",
       "      <td>333</td>\n",
       "      <td>wymagajacy uwagi</td>\n",
       "    </tr>\n",
       "    <tr>\n",
       "      <th>21625387</th>\n",
       "      <td>763</td>\n",
       "      <td>3</td>\n",
       "      <td>763.0</td>\n",
       "      <td>3</td>\n",
       "      <td>29.94</td>\n",
       "      <td>3</td>\n",
       "      <td>333</td>\n",
       "      <td>wymagajacy uwagi</td>\n",
       "    </tr>\n",
       "    <tr>\n",
       "      <th>21627710</th>\n",
       "      <td>753</td>\n",
       "      <td>3</td>\n",
       "      <td>753.0</td>\n",
       "      <td>3</td>\n",
       "      <td>29.94</td>\n",
       "      <td>3</td>\n",
       "      <td>333</td>\n",
       "      <td>wymagajacy uwagi</td>\n",
       "    </tr>\n",
       "    <tr>\n",
       "      <th>21628380</th>\n",
       "      <td>754</td>\n",
       "      <td>3</td>\n",
       "      <td>754.0</td>\n",
       "      <td>3</td>\n",
       "      <td>29.94</td>\n",
       "      <td>3</td>\n",
       "      <td>333</td>\n",
       "      <td>wymagajacy uwagi</td>\n",
       "    </tr>\n",
       "    <tr>\n",
       "      <th>36201617</th>\n",
       "      <td>771</td>\n",
       "      <td>3</td>\n",
       "      <td>771.0</td>\n",
       "      <td>3</td>\n",
       "      <td>29.90</td>\n",
       "      <td>3</td>\n",
       "      <td>333</td>\n",
       "      <td>wymagajacy uwagi</td>\n",
       "    </tr>\n",
       "  </tbody>\n",
       "</table>\n",
       "</div>"
      ],
      "text/plain": [
       "             Recency  Wartość Recency  Frequency  Wartość Frequency  Monetary  \\\n",
       "householdid                                                                     \n",
       "19205290         717                3      717.0                  3     29.94   \n",
       "21625387         763                3      763.0                  3     29.94   \n",
       "21627710         753                3      753.0                  3     29.94   \n",
       "21628380         754                3      754.0                  3     29.94   \n",
       "36201617         771                3      771.0                  3     29.90   \n",
       "\n",
       "             Wartość Monetary  RFM Score Rodzaj klienta [FM]  \n",
       "householdid                                                   \n",
       "19205290                    3        333    wymagajacy uwagi  \n",
       "21625387                    3        333    wymagajacy uwagi  \n",
       "21627710                    3        333    wymagajacy uwagi  \n",
       "21628380                    3        333    wymagajacy uwagi  \n",
       "36201617                    3        333    wymagajacy uwagi  "
      ]
     },
     "execution_count": 39,
     "metadata": {},
     "output_type": "execute_result"
    }
   ],
   "source": [
    "sredni_klient = analiza_RFM[analiza_RFM[\"RFM Score\"] == 333].sort_values('Monetary',ascending=False)\n",
    "sredni_klient.head()"
   ]
  },
  {
   "cell_type": "markdown",
   "metadata": {},
   "source": [
    "**Tabela 9.** Zestawienie grupy klientów wymagających uwagi"
   ]
  },
  {
   "cell_type": "code",
   "execution_count": 40,
   "metadata": {},
   "outputs": [
    {
     "name": "stdout",
     "output_type": "stream",
     "text": [
      "Ilość średnich klientów:  3549\n"
     ]
    }
   ],
   "source": [
    "print(\"Ilość średnich klientów: \", len(sredni_klient))"
   ]
  },
  {
   "cell_type": "markdown",
   "metadata": {},
   "source": [
    "### 12.4. Wyznaczenie listy utraconych klientów "
   ]
  },
  {
   "cell_type": "code",
   "execution_count": 41,
   "metadata": {},
   "outputs": [
    {
     "data": {
      "text/html": [
       "<div>\n",
       "<style scoped>\n",
       "    .dataframe tbody tr th:only-of-type {\n",
       "        vertical-align: middle;\n",
       "    }\n",
       "\n",
       "    .dataframe tbody tr th {\n",
       "        vertical-align: top;\n",
       "    }\n",
       "\n",
       "    .dataframe thead th {\n",
       "        text-align: right;\n",
       "    }\n",
       "</style>\n",
       "<table border=\"1\" class=\"dataframe\">\n",
       "  <thead>\n",
       "    <tr style=\"text-align: right;\">\n",
       "      <th></th>\n",
       "      <th>Recency</th>\n",
       "      <th>Wartość Recency</th>\n",
       "      <th>Frequency</th>\n",
       "      <th>Wartość Frequency</th>\n",
       "      <th>Monetary</th>\n",
       "      <th>Wartość Monetary</th>\n",
       "      <th>RFM Score</th>\n",
       "      <th>Rodzaj klienta [FM]</th>\n",
       "    </tr>\n",
       "    <tr>\n",
       "      <th>householdid</th>\n",
       "      <th></th>\n",
       "      <th></th>\n",
       "      <th></th>\n",
       "      <th></th>\n",
       "      <th></th>\n",
       "      <th></th>\n",
       "      <th></th>\n",
       "      <th></th>\n",
       "    </tr>\n",
       "  </thead>\n",
       "  <tbody>\n",
       "    <tr>\n",
       "      <th>18460553</th>\n",
       "      <td>1859</td>\n",
       "      <td>5</td>\n",
       "      <td>1859.0</td>\n",
       "      <td>5</td>\n",
       "      <td>14.87</td>\n",
       "      <td>1</td>\n",
       "      <td>551</td>\n",
       "      <td>klienci w hibernacji</td>\n",
       "    </tr>\n",
       "    <tr>\n",
       "      <th>36208202</th>\n",
       "      <td>1940</td>\n",
       "      <td>5</td>\n",
       "      <td>1940.0</td>\n",
       "      <td>5</td>\n",
       "      <td>14.85</td>\n",
       "      <td>1</td>\n",
       "      <td>551</td>\n",
       "      <td>klienci w hibernacji</td>\n",
       "    </tr>\n",
       "    <tr>\n",
       "      <th>75478599</th>\n",
       "      <td>1847</td>\n",
       "      <td>5</td>\n",
       "      <td>1847.0</td>\n",
       "      <td>5</td>\n",
       "      <td>14.41</td>\n",
       "      <td>1</td>\n",
       "      <td>551</td>\n",
       "      <td>klienci w hibernacji</td>\n",
       "    </tr>\n",
       "    <tr>\n",
       "      <th>51518320</th>\n",
       "      <td>1697</td>\n",
       "      <td>5</td>\n",
       "      <td>1697.0</td>\n",
       "      <td>5</td>\n",
       "      <td>14.35</td>\n",
       "      <td>1</td>\n",
       "      <td>551</td>\n",
       "      <td>klienci w hibernacji</td>\n",
       "    </tr>\n",
       "    <tr>\n",
       "      <th>20795737</th>\n",
       "      <td>1851</td>\n",
       "      <td>5</td>\n",
       "      <td>1851.0</td>\n",
       "      <td>5</td>\n",
       "      <td>14.00</td>\n",
       "      <td>1</td>\n",
       "      <td>551</td>\n",
       "      <td>klienci w hibernacji</td>\n",
       "    </tr>\n",
       "  </tbody>\n",
       "</table>\n",
       "</div>"
      ],
      "text/plain": [
       "             Recency  Wartość Recency  Frequency  Wartość Frequency  Monetary  \\\n",
       "householdid                                                                     \n",
       "18460553        1859                5     1859.0                  5     14.87   \n",
       "36208202        1940                5     1940.0                  5     14.85   \n",
       "75478599        1847                5     1847.0                  5     14.41   \n",
       "51518320        1697                5     1697.0                  5     14.35   \n",
       "20795737        1851                5     1851.0                  5     14.00   \n",
       "\n",
       "             Wartość Monetary  RFM Score   Rodzaj klienta [FM]  \n",
       "householdid                                                     \n",
       "18460553                    1        551  klienci w hibernacji  \n",
       "36208202                    1        551  klienci w hibernacji  \n",
       "75478599                    1        551  klienci w hibernacji  \n",
       "51518320                    1        551  klienci w hibernacji  \n",
       "20795737                    1        551  klienci w hibernacji  "
      ]
     },
     "execution_count": 41,
     "metadata": {},
     "output_type": "execute_result"
    }
   ],
   "source": [
    "najgorszy_klient = analiza_RFM[analiza_RFM[\"RFM Score\"] == 551].sort_values('Monetary',ascending=False)\n",
    "najgorszy_klient.head()"
   ]
  },
  {
   "cell_type": "markdown",
   "metadata": {},
   "source": [
    "**Tabela 10.** Zestawienie klientów z najniższymi wartościami"
   ]
  },
  {
   "cell_type": "code",
   "execution_count": 42,
   "metadata": {},
   "outputs": [
    {
     "name": "stdout",
     "output_type": "stream",
     "text": [
      "Ilość utraconych klientów:  6038\n"
     ]
    }
   ],
   "source": [
    "print(\"Ilość utraconych klientów: \", len(najgorszy_klient))"
   ]
  },
  {
   "cell_type": "markdown",
   "metadata": {},
   "source": [
    "### 12.5. Wyznaczenie listy klientów, którzy mogą zrezygnować w najbliższym czasie"
   ]
  },
  {
   "cell_type": "code",
   "execution_count": 43,
   "metadata": {},
   "outputs": [
    {
     "data": {
      "text/html": [
       "<div>\n",
       "<style scoped>\n",
       "    .dataframe tbody tr th:only-of-type {\n",
       "        vertical-align: middle;\n",
       "    }\n",
       "\n",
       "    .dataframe tbody tr th {\n",
       "        vertical-align: top;\n",
       "    }\n",
       "\n",
       "    .dataframe thead th {\n",
       "        text-align: right;\n",
       "    }\n",
       "</style>\n",
       "<table border=\"1\" class=\"dataframe\">\n",
       "  <thead>\n",
       "    <tr style=\"text-align: right;\">\n",
       "      <th></th>\n",
       "      <th>Recency</th>\n",
       "      <th>Wartość Recency</th>\n",
       "      <th>Frequency</th>\n",
       "      <th>Wartość Frequency</th>\n",
       "      <th>Monetary</th>\n",
       "      <th>Wartość Monetary</th>\n",
       "      <th>RFM Score</th>\n",
       "      <th>Rodzaj klienta [FM]</th>\n",
       "    </tr>\n",
       "    <tr>\n",
       "      <th>householdid</th>\n",
       "      <th></th>\n",
       "      <th></th>\n",
       "      <th></th>\n",
       "      <th></th>\n",
       "      <th></th>\n",
       "      <th></th>\n",
       "      <th></th>\n",
       "      <th></th>\n",
       "    </tr>\n",
       "  </thead>\n",
       "  <tbody>\n",
       "    <tr>\n",
       "      <th>20778537</th>\n",
       "      <td>1099</td>\n",
       "      <td>4</td>\n",
       "      <td>222.000000</td>\n",
       "      <td>1</td>\n",
       "      <td>234.000000</td>\n",
       "      <td>5</td>\n",
       "      <td>415</td>\n",
       "      <td>klienci nie do stracenia</td>\n",
       "    </tr>\n",
       "    <tr>\n",
       "      <th>22271623</th>\n",
       "      <td>1828</td>\n",
       "      <td>5</td>\n",
       "      <td>229.750000</td>\n",
       "      <td>1</td>\n",
       "      <td>53.995000</td>\n",
       "      <td>4</td>\n",
       "      <td>514</td>\n",
       "      <td>klienci nie do stracenia</td>\n",
       "    </tr>\n",
       "    <tr>\n",
       "      <th>20496508</th>\n",
       "      <td>1849</td>\n",
       "      <td>5</td>\n",
       "      <td>231.125000</td>\n",
       "      <td>1</td>\n",
       "      <td>7.500000</td>\n",
       "      <td>1</td>\n",
       "      <td>511</td>\n",
       "      <td>klienci nie do stracenia</td>\n",
       "    </tr>\n",
       "    <tr>\n",
       "      <th>20156160</th>\n",
       "      <td>1352</td>\n",
       "      <td>4</td>\n",
       "      <td>249.333333</td>\n",
       "      <td>1</td>\n",
       "      <td>40.377778</td>\n",
       "      <td>4</td>\n",
       "      <td>414</td>\n",
       "      <td>klienci nie do stracenia</td>\n",
       "    </tr>\n",
       "    <tr>\n",
       "      <th>20289918</th>\n",
       "      <td>1068</td>\n",
       "      <td>4</td>\n",
       "      <td>252.555556</td>\n",
       "      <td>1</td>\n",
       "      <td>51.030000</td>\n",
       "      <td>4</td>\n",
       "      <td>414</td>\n",
       "      <td>klienci nie do stracenia</td>\n",
       "    </tr>\n",
       "  </tbody>\n",
       "</table>\n",
       "</div>"
      ],
      "text/plain": [
       "             Recency  Wartość Recency   Frequency  Wartość Frequency  \\\n",
       "householdid                                                            \n",
       "20778537        1099                4  222.000000                  1   \n",
       "22271623        1828                5  229.750000                  1   \n",
       "20496508        1849                5  231.125000                  1   \n",
       "20156160        1352                4  249.333333                  1   \n",
       "20289918        1068                4  252.555556                  1   \n",
       "\n",
       "               Monetary  Wartość Monetary  RFM Score       Rodzaj klienta [FM]  \n",
       "householdid                                                                     \n",
       "20778537     234.000000                 5        415  klienci nie do stracenia  \n",
       "22271623      53.995000                 4        514  klienci nie do stracenia  \n",
       "20496508       7.500000                 1        511  klienci nie do stracenia  \n",
       "20156160      40.377778                 4        414  klienci nie do stracenia  \n",
       "20289918      51.030000                 4        414  klienci nie do stracenia  "
      ]
     },
     "execution_count": 43,
     "metadata": {},
     "output_type": "execute_result"
    }
   ],
   "source": [
    "klient_churn = analiza_RFM[analiza_RFM[\"Wartość Recency\"] >= 4].sort_values('Frequency',ascending=True)\n",
    "klient_churn.head()"
   ]
  },
  {
   "cell_type": "markdown",
   "metadata": {},
   "source": [
    "**Tabela 11.** Zestawienie klientów, którzy ostatnio nie kupowali "
   ]
  },
  {
   "cell_type": "code",
   "execution_count": 44,
   "metadata": {},
   "outputs": [
    {
     "name": "stdout",
     "output_type": "stream",
     "text": [
      "Ilość klientów, którzy mogą zrezygnować:  57831\n"
     ]
    }
   ],
   "source": [
    "print(\"Ilość klientów, którzy mogą zrezygnować: \", len(klient_churn))"
   ]
  },
  {
   "cell_type": "markdown",
   "metadata": {},
   "source": [
    "### 12.6 Wyznaczenie listy lojalnych klientów"
   ]
  },
  {
   "cell_type": "code",
   "execution_count": 45,
   "metadata": {},
   "outputs": [
    {
     "data": {
      "text/html": [
       "<div>\n",
       "<style scoped>\n",
       "    .dataframe tbody tr th:only-of-type {\n",
       "        vertical-align: middle;\n",
       "    }\n",
       "\n",
       "    .dataframe tbody tr th {\n",
       "        vertical-align: top;\n",
       "    }\n",
       "\n",
       "    .dataframe thead th {\n",
       "        text-align: right;\n",
       "    }\n",
       "</style>\n",
       "<table border=\"1\" class=\"dataframe\">\n",
       "  <thead>\n",
       "    <tr style=\"text-align: right;\">\n",
       "      <th></th>\n",
       "      <th>Recency</th>\n",
       "      <th>Wartość Recency</th>\n",
       "      <th>Frequency</th>\n",
       "      <th>Wartość Frequency</th>\n",
       "      <th>Monetary</th>\n",
       "      <th>Wartość Monetary</th>\n",
       "      <th>RFM Score</th>\n",
       "      <th>Rodzaj klienta [FM]</th>\n",
       "    </tr>\n",
       "    <tr>\n",
       "      <th>householdid</th>\n",
       "      <th></th>\n",
       "      <th></th>\n",
       "      <th></th>\n",
       "      <th></th>\n",
       "      <th></th>\n",
       "      <th></th>\n",
       "      <th></th>\n",
       "      <th></th>\n",
       "    </tr>\n",
       "  </thead>\n",
       "  <tbody>\n",
       "    <tr>\n",
       "      <th>19900840</th>\n",
       "      <td>450</td>\n",
       "      <td>2</td>\n",
       "      <td>450.0</td>\n",
       "      <td>2</td>\n",
       "      <td>0.000</td>\n",
       "      <td>1</td>\n",
       "      <td>221</td>\n",
       "      <td>lojalni</td>\n",
       "    </tr>\n",
       "    <tr>\n",
       "      <th>20738405</th>\n",
       "      <td>448</td>\n",
       "      <td>2</td>\n",
       "      <td>248.5</td>\n",
       "      <td>1</td>\n",
       "      <td>0.000</td>\n",
       "      <td>1</td>\n",
       "      <td>211</td>\n",
       "      <td>lojalni</td>\n",
       "    </tr>\n",
       "    <tr>\n",
       "      <th>36420038</th>\n",
       "      <td>581</td>\n",
       "      <td>2</td>\n",
       "      <td>581.0</td>\n",
       "      <td>2</td>\n",
       "      <td>10.950</td>\n",
       "      <td>1</td>\n",
       "      <td>221</td>\n",
       "      <td>lojalni</td>\n",
       "    </tr>\n",
       "    <tr>\n",
       "      <th>36420040</th>\n",
       "      <td>548</td>\n",
       "      <td>2</td>\n",
       "      <td>548.0</td>\n",
       "      <td>2</td>\n",
       "      <td>0.000</td>\n",
       "      <td>1</td>\n",
       "      <td>221</td>\n",
       "      <td>lojalni</td>\n",
       "    </tr>\n",
       "    <tr>\n",
       "      <th>36420046</th>\n",
       "      <td>570</td>\n",
       "      <td>2</td>\n",
       "      <td>292.5</td>\n",
       "      <td>1</td>\n",
       "      <td>12.975</td>\n",
       "      <td>1</td>\n",
       "      <td>211</td>\n",
       "      <td>lojalni</td>\n",
       "    </tr>\n",
       "  </tbody>\n",
       "</table>\n",
       "</div>"
      ],
      "text/plain": [
       "             Recency  Wartość Recency  Frequency  Wartość Frequency  Monetary  \\\n",
       "householdid                                                                     \n",
       "19900840         450                2      450.0                  2     0.000   \n",
       "20738405         448                2      248.5                  1     0.000   \n",
       "36420038         581                2      581.0                  2    10.950   \n",
       "36420040         548                2      548.0                  2     0.000   \n",
       "36420046         570                2      292.5                  1    12.975   \n",
       "\n",
       "             Wartość Monetary  RFM Score Rodzaj klienta [FM]  \n",
       "householdid                                                   \n",
       "19900840                    1        221             lojalni  \n",
       "20738405                    1        211             lojalni  \n",
       "36420038                    1        221             lojalni  \n",
       "36420040                    1        221             lojalni  \n",
       "36420046                    1        211             lojalni  "
      ]
     },
     "execution_count": 45,
     "metadata": {},
     "output_type": "execute_result"
    }
   ],
   "source": [
    "lojalni_klienci = analiza_RFM[analiza_RFM[\"Rodzaj klienta [FM]\"] == \"lojalni\"].sort_values('Wartość Monetary',ascending=True)\n",
    "lojalni_klienci.head()"
   ]
  },
  {
   "cell_type": "markdown",
   "metadata": {},
   "source": [
    "**Tabela 12.** Zestawienie lojalnych klientów"
   ]
  },
  {
   "cell_type": "code",
   "execution_count": 46,
   "metadata": {},
   "outputs": [
    {
     "name": "stdout",
     "output_type": "stream",
     "text": [
      "Ilość klientów, którzy są lojalni:  28995\n"
     ]
    }
   ],
   "source": [
    "print(\"Ilość klientów, którzy są lojalni: \", len(lojalni_klienci))"
   ]
  },
  {
   "cell_type": "markdown",
   "metadata": {},
   "source": [
    "### 12.7. Rozkład rodzajów klientów"
   ]
  },
  {
   "cell_type": "code",
   "execution_count": 47,
   "metadata": {},
   "outputs": [
    {
     "data": {
      "text/plain": [
       "<matplotlib.axes._subplots.AxesSubplot at 0x25cb81fc7f0>"
      ]
     },
     "execution_count": 47,
     "metadata": {},
     "output_type": "execute_result"
    },
    {
     "data": {
      "image/png": "[encoded data removed]",
      "text/plain": [
       "<Figure size 432x288 with 1 Axes>"
      ]
     },
     "metadata": {
      "needs_background": "light"
     },
     "output_type": "display_data"
    }
   ],
   "source": [
    "rodzaj_klienta = analiza_RFM.groupby([\"Rodzaj klienta [FM]\"])[\"Recency\"].count()\n",
    "rodzaj_klienta = rodzaj_klienta/rodzaj_klienta.sum()*100\n",
    "rodzaj_klienta.sort_values().plot.barh(x='lab', y='val')\n"
   ]
  },
  {
   "cell_type": "markdown",
   "metadata": {},
   "source": [
    "**Rys.8** Procentowy rozkład rodzajów klientów \n"
   ]
  },
  {
   "cell_type": "markdown",
   "metadata": {},
   "source": [
    "### 12.8 Jakie produkty kupowane są przez klientów? "
   ]
  },
  {
   "cell_type": "code",
   "execution_count": 48,
   "metadata": {},
   "outputs": [],
   "source": [
    "produkty1 = pd.merge(customer, orders, on=\"customerid\")\n",
    "produkty2 = pd.merge(produkty1, analiza_RFM, on=\"householdid\")\n",
    "produkty2 = produkty2[produkty2['orderdate'] <= \"2016-01-01\"]\n",
    "produkty3 = pd.merge(produkty2, orderline, on=\"orderid\")\n",
    "produkty4 = pd.merge(produkty3, product, left_on=\"productid\", right_on=\"PRODUCTID\")"
   ]
  },
  {
   "cell_type": "code",
   "execution_count": 49,
   "metadata": {},
   "outputs": [
    {
     "data": {
      "image/png": "[encoded data removed]",
      "text/plain": [
       "<Figure size 1080x1080 with 9 Axes>"
      ]
     },
     "metadata": {
      "needs_background": "light"
     },
     "output_type": "display_data"
    }
   ],
   "source": [
    "fig = plt.figure(constrained_layout=True, figsize=(15, 15))\n",
    "spec = fig.add_gridspec(ncols=3,nrows=3)\n",
    "x_wykres = 0\n",
    "y_wykres = 0 \n",
    "for klient in rodzaj_klienta_mapa.values():\n",
    "    produkty = produkty4[produkty4[\"Rodzaj klienta [FM]\"]==klient].groupby(\"PRODUCTGROUPNAME\")[\"customerid\"].count().sort_values()\n",
    "    if len(produkty)<=0:\n",
    "        continue\n",
    "    wykres_produkty = produkty/produkty.sum()*100\n",
    "    ax=fig.add_subplot(spec[x_wykres,y_wykres])\n",
    "    ax.barh(wykres_produkty.index, wykres_produkty.values)\n",
    "    ax.tick_params(labelsize=8)\n",
    "    ax.title.set_text(klient)\n",
    "    x_wykres += 1\n",
    "    if x_wykres >= 3:\n",
    "        x_wykres = 0 \n",
    "        y_wykres+=1"
   ]
  },
  {
   "cell_type": "markdown",
   "metadata": {},
   "source": [
    "**Rys.9** Rozkład kupowanych grup artykułów przez każdą z grup klientów \n",
    "\n",
    "\n",
    "\n",
    "Na wykresach można zauważyć, że najczęściej kupowanymi artykułami są książki, sztuka oraz produkty z promocji (\"*Occasion*\") przez wszystkich klientów bez względu na ich rodzaj. Dodatkowo \"najlepsi klienci\", czyli następujące grupy: lojalni i najlepsi otrzymują gratisy. "
   ]
  },
  {
   "cell_type": "markdown",
   "metadata": {},
   "source": [
    "### 12.9 W jakim mieście klienci najczęściej kupują? "
   ]
  },
  {
   "cell_type": "code",
   "execution_count": 50,
   "metadata": {},
   "outputs": [],
   "source": [
    "klienci_miasto1 = pd.merge(customer, orders, on=\"customerid\")\n",
    "klienci_miasto2 = pd.merge(klienci_miasto1, analiza_RFM, on=\"householdid\")\n",
    "klienci_miasto2 = klienci_miasto2[klienci_miasto2['orderdate'] <= \"2016-01-01\"]\n",
    "klienci_miasto_grupa = klienci_miasto2.groupby(\"city\").count()[\"customerid\"].sort_values()\n",
    "klienci_miasto_grupa_lista = klienci_miasto_grupa.tail(15).index.tolist()"
   ]
  },
  {
   "cell_type": "code",
   "execution_count": 51,
   "metadata": {},
   "outputs": [
    {
     "data": {
      "image/png": "[encoded data removed]",
      "text/plain": [
       "<Figure size 1080x1080 with 9 Axes>"
      ]
     },
     "metadata": {
      "needs_background": "light"
     },
     "output_type": "display_data"
    }
   ],
   "source": [
    "fig = plt.figure(constrained_layout=True, figsize=(15, 15))\n",
    "spec = fig.add_gridspec(ncols=3,nrows=3)\n",
    "x_wykres = 0\n",
    "y_wykres = 0 \n",
    "\n",
    "for klient in rodzaj_klienta_mapa.values():\n",
    "    klienci_miasto_grupa = klienci_miasto2[klienci_miasto2[\"Rodzaj klienta [FM]\"]==klient].groupby(\"city\").count()[\"customerid\"].sort_values()\n",
    "    if len(klienci_miasto_grupa)<=0:\n",
    "        continue\n",
    "    klienci_miasto_grupa_lista = klienci_miasto_grupa.tail(15).index.tolist()\n",
    "    wartosci = klienci_miasto_grupa[klienci_miasto_grupa.index.isin(klienci_miasto_grupa_lista)]\n",
    "    wartosci[\"OTHER*10\"] = klienci_miasto_grupa[np.logical_not(klienci_miasto_grupa.isin(klienci_miasto_grupa_lista))].sum()\n",
    "    wartosci = wartosci/wartosci.sum()*100\n",
    "    new_wartosc_index = wartosci.index.tolist()[:-1]\n",
    "    #new_wartosc_index.insert(0, wartosci.index.tolist()[-1])\n",
    "    wartosci = wartosci.reindex(new_wartosc_index)\n",
    "    ax=fig.add_subplot(spec[x_wykres,y_wykres])\n",
    "    ax.barh(wartosci.index, wartosci.values)\n",
    "    for i, v in enumerate(wartosci.values):\n",
    "        ax.text(v+0.1, i-0.2, str(np.round(v,1)), color='black')\n",
    "    ax.tick_params(labelsize=8)\n",
    "    ax.title.set_text(\"{} (%)\".format(klient))\n",
    "    x_wykres += 1\n",
    "    if x_wykres >= 3:\n",
    "        x_wykres = 0 \n",
    "        y_wykres+=1"
   ]
  },
  {
   "cell_type": "markdown",
   "metadata": {},
   "source": [
    "**Rys.10** Rozkład procentowy miast ze względu na każdą z grup klientów \n",
    "\n",
    "Na wykresie można zauważyć, że najwięcej klientów znajduje się w Nowym Jorku, i stanowią oni ok. 7% w każdej grupie. Drugim miastem jest Brooklyn pod względem wszystkich klientów, a nasi klienci nie do stracenia znajdują się w Staten Island. Oznacza to, że przedsiębiorstwo powinno skupić się na tych klientach, jeżeli nie chcą, żeby zostali utraceni.\n"
   ]
  },
  {
   "cell_type": "markdown",
   "metadata": {},
   "source": [
    "# 13. Migracje klientów w ramach komórek RFM -  poszczególne lata"
   ]
  },
  {
   "cell_type": "code",
   "execution_count": 52,
   "metadata": {},
   "outputs": [],
   "source": [
    "def analiza_RFM_f(dane, is_plot = True):\n",
    "    \n",
    "    #R\n",
    "    if is_plot:\n",
    "        fig = plt.figure(constrained_layout=True, figsize=(15, 5))\n",
    "        spec = fig.add_gridspec(ncols=3,nrows=1)\n",
    "    \n",
    "    grupowanie = dane.groupby([\"householdid\"])['orderdate'].max().to_frame()\n",
    "    \n",
    "    d0 =  grupowanie[\"orderdate\"].max() #wzgledem ostatniego dnia zakupu przez klienta \n",
    "    liczba_dni = (d0 - grupowanie.orderdate)\n",
    "    grupowanie['recency'] = liczba_dni.dt.days\n",
    "    \n",
    "    kwantyle = grupowanie['recency'].quantile(rzad_kwantyli)\n",
    "    ustaw_poziomy(grupowanie,'recency',kwantyle)\n",
    "    grupowanie[\"wartosc_r\"] = grupowanie[\"wartosc\"]\n",
    "    \n",
    "    if is_plot:\n",
    "        ax1=fig.add_subplot(spec[0,0])\n",
    "        kwantyle_wykres_ax(kwantyle,ax1,\"RFM do początku {} Recency\".format(max(dane[\"orderdate\"].dt.year+1)))\n",
    "    \n",
    "    #F\n",
    "    minimalna_data = dane.groupby([\"householdid\"])['orderdate'].min().to_frame()\n",
    "    liczba_zamowien = dane.groupby([\"householdid\"])['orderdate'].count().to_frame()\n",
    "    liczba_zamowien.columns = [\"liczba_zamowien\"]\n",
    "    \n",
    "    liczba_dni = (d0 - minimalna_data.orderdate)\n",
    "    liczba_zamowien['liczba_dni_od_pierwszego_zakupu'] = liczba_dni.dt.days\n",
    "    liczba_zamowien[\"frequency\"] = liczba_zamowien['liczba_dni_od_pierwszego_zakupu']/liczba_zamowien['liczba_zamowien']\n",
    "    \n",
    "    kwantyle = liczba_zamowien['frequency'].quantile(rzad_kwantyli)\n",
    "    ustaw_poziomy(liczba_zamowien,'frequency',kwantyle)\n",
    "    liczba_zamowien[\"wartosc_f\"] = liczba_zamowien[\"wartosc\"]\n",
    "    \n",
    "    if is_plot:\n",
    "        ax2=fig.add_subplot(spec[0,1])\n",
    "        kwantyle_wykres_ax(kwantyle,ax2,\"RFM do początku {} Frequency\".format(max(dane[\"orderdate\"].dt.year+1)))\n",
    "    \n",
    "    grupowanie = pd.merge(grupowanie, liczba_zamowien, on=\"householdid\")\n",
    "    \n",
    "    #M\n",
    "    kwota = dane.groupby([\"householdid\"])['totalprice'].mean().to_frame()\n",
    "    kwota.columns= [\"monetary\"]\n",
    "    kwantyle = kwota['monetary'].quantile(rzad_kwantyli)\n",
    "    ustaw_poziomy(kwota,'monetary',monetary_kwantyle)\n",
    "    kwota[\"wartosc_m\"] = kwota[\"wartosc\"]\n",
    "    \n",
    "    if is_plot:\n",
    "        ax3=fig.add_subplot(spec[0,2])\n",
    "        kwantyle_wykres_ax(kwantyle,ax3,\"RFM do początku {} Monetary\".format(max(dane[\"orderdate\"].dt.year+1)))\n",
    "    grupowanie = pd.merge(grupowanie, kwota, on=\"householdid\")\n",
    "    \n",
    "    grupowanie[\"RFM\"] = grupowanie[\"wartosc_r\"]*100+grupowanie[\"wartosc_f\"]*10+grupowanie[\"wartosc_m\"]\n",
    "    \n",
    "    \n",
    "    return grupowanie"
   ]
  },
  {
   "cell_type": "code",
   "execution_count": 53,
   "metadata": {},
   "outputs": [
    {
     "data": {
      "image/png": "[encoded data removed]",
      "text/plain": [
       "<Figure size 1080x360 with 3 Axes>"
      ]
     },
     "metadata": {
      "needs_background": "light"
     },
     "output_type": "display_data"
    },
    {
     "data": {
      "image/png": "[encoded data removed]",
      "text/plain": [
       "<Figure size 1080x360 with 3 Axes>"
      ]
     },
     "metadata": {
      "needs_background": "light"
     },
     "output_type": "display_data"
    },
    {
     "data": {
      "image/png": "[encoded data removed]",
      "text/plain": [
       "<Figure size 1080x360 with 3 Axes>"
      ]
     },
     "metadata": {
      "needs_background": "light"
     },
     "output_type": "display_data"
    }
   ],
   "source": [
    "do_analizy = pd.merge(customer, orders, on=\"customerid\")\n",
    "r_2016 = analiza_RFM_f(do_analizy[do_analizy['orderdate'].dt.year < 2016])\n",
    "r_2015 = analiza_RFM_f(do_analizy[do_analizy['orderdate'].dt.year < 2015])\n",
    "r_2014 = analiza_RFM_f(do_analizy[do_analizy['orderdate'].dt.year < 2014])"
   ]
  },
  {
   "cell_type": "markdown",
   "metadata": {},
   "source": [
    "**Rys.11** Wykresy z współczynnikami R,F i M dla lat 2014-2016\n",
    "\n",
    "\n",
    "Na wykresie \"Do 2015 roku\" klienci najlepiej wypadli pod względem wskaźnika Recency, ponieważ 20% klientów dokonało ostatniego zakupu w ciągu ostatnich 174 dni. Najgorszą wartość izyskano na wykresie \"Do roku 2016\", ponieważ 20% klientów dokonało ostatniego zakupu w ciągu ostatnich 380 dni.     \n",
    "\n",
    "Wskaźnik Frequency jest najlepszy do roku 2015, zaś najgorszy jest do roku 2016. \n",
    "\n",
    "Wskaźnik Monetary jest podobny w każdym z podanych lat. \n",
    "\n",
    "\n",
    "\n",
    "\n"
   ]
  },
  {
   "cell_type": "code",
   "execution_count": 54,
   "metadata": {},
   "outputs": [
    {
     "data": {
      "image/png": "[encoded data removed]",
      "text/plain": [
       "<Figure size 1080x720 with 9 Axes>"
      ]
     },
     "metadata": {
      "needs_background": "light"
     },
     "output_type": "display_data"
    }
   ],
   "source": [
    "fig = plt.figure(constrained_layout=True, figsize=(15, 10))\n",
    "spec = fig.add_gridspec(ncols=3,nrows=3)\n",
    "x_wykres = 0\n",
    "y_wykres = 0 \n",
    "for year in range(2009, 2017):\n",
    "    rfm = analiza_RFM_f(do_analizy[do_analizy['orderdate'].dt.year < year+1], False)\n",
    "    rfm['FM'] = rfm['wartosc_r'].map(str) + rfm['wartosc_f'].map(str)\n",
    "    rfm['FM'] = rfm['FM'].replace(rodzaj_klienta_mapa, regex=True)\n",
    "    rodzaj_klienta = rfm.groupby(['FM'])[\"wartosc_r\"].count()\n",
    "    rodzaj_klienta = rodzaj_klienta/rodzaj_klienta.sum()*100\n",
    "    for typ_klienta in rodzaj_klienta_mapa.values():\n",
    "        if typ_klienta not in rodzaj_klienta.index.tolist():\n",
    "            rodzaj_klienta[typ_klienta] = 0\n",
    "    new_index = rodzaj_klienta.index.tolist()\n",
    "    new_index.sort()\n",
    "    rodzaj_klienta = rodzaj_klienta.reindex(new_index)\n",
    "    ax=fig.add_subplot(spec[x_wykres,y_wykres])\n",
    "    ax.barh(rodzaj_klienta.index, rodzaj_klienta.values)\n",
    "            \n",
    "    for i, v in enumerate(rodzaj_klienta.values):\n",
    "        ax.text(v+0.1, i-0.2, str(np.round(v,2)), color='black')\n",
    "    ax.tick_params(labelsize=8)\n",
    "    ax.title.set_text(\"do roku {} (%)\".format(year))\n",
    "    y_wykres += 1\n",
    "    if y_wykres >= 3:\n",
    "        y_wykres = 0 \n",
    "        x_wykres+=1"
   ]
  },
  {
   "cell_type": "markdown",
   "metadata": {},
   "source": [
    "**Rys.12** Rozkład klientów z podziałem na lata"
   ]
  },
  {
   "cell_type": "markdown",
   "metadata": {},
   "source": [
    "Na wykresach powyżej największy odsetek stanowią klienci w hibernacji, czyli jest to najgorszy wariant - kupowali bardzo dawno i bardzo rzadko. Klienci wymagający uwagi utrzymują się na podobnym poziomie, jednakże widać ich niewielką stratę. Najlepsi klienci utrzymują się na stałym poziomie. \n",
    "\n",
    "Liczba klientów uśpionych wzrasta. Odsetek potencjalnie najlepszych klientów zmienia się względem lat, nie jest stały (rośnie i maleje). Liczba klientów zagrożonych wzrasta. \n",
    "\n",
    "\n",
    "\n",
    "Klienci do nie stracenia są małym odsetkiem.\n",
    "\n",
    "Liczba nowych klientów wynosi 0 ze względu na to, że nie został spełniony warunek dla: R (wartość 1), F (wartość 5). Wynika to z faktu że wskaźnik Frequency nie był liczony od początku daty analizy dla każdego klienta, tylko od dnia pierwszego zakupy przez dane gospodarstwo domowe."
   ]
  },
  {
   "cell_type": "markdown",
   "metadata": {},
   "source": [
    "# 14. Wnioski z analizy RFM \n",
    "\n",
    "Podsumowując do 01 stycznia 2016 roku: \n",
    " \n",
    "**1. Wskaźnik recency wskazał, że mała liczba gospodarstw zrobiła ostatnio zakupy.**\n",
    "    - 20% gospodarstw dokonało zakupu w ciągu 381 dni\n",
    "    - 40% gospodarstw dokonało zakupu w ciągu 615 dni\n",
    "    - 60% gospodarstw dokonało zakupu w ciągu  1068 dni\n",
    "    - 80% gospodarstw dokonało zakupu w ciągu  1697 dni\n",
    "**. Wskaźnik frequency wskazał, że klienci rzadko kupowali produkty.**\n",
    "    - 20% gospodarstw zamawia minimalnie raz w ciągu 373 dni\n",
    "    - 40% gospodarstw zamawia minimalnie w ciągu 595 dni\n",
    "    - 60% gospodarstw zamawia minimalnie w ciągu  975 dni\n",
    "    - 80% gospodarstw zamawia minimalnie w ciągu  1629 dni\n",
    "**3. Wskaźnik monetary wskazał, że klienci średnio wydają mało pieniędzy.** \n",
    "    - 20% gospodarstw wydaje średnio na zakupy 14 dolarów \n",
    "    - 40% gospodarstw wydaje średnio na zakupy 21 dolarów\n",
    "    - 60% gospodarstw wydaje średnio na zakupy 29 dolarów\n",
    "    - 80% gospodarstw wydaje średnio na zakupy 60 dolarów\n",
    "**4. Z wykresu bąbelkowego (rys. 4)** zauważono, że największa korelacja występuje pomiędzy wartościami identycznymi dla R i F, czyli takimi jak: 11, 22, 33, 44, 55.            \n",
    "**5. Ocena gospodarstw według punktacji (rys. 5)** pozwoliła na odkrycie podobieństwa pomiędzy wartościami granicznymi. Wysokości słupków są niemal podobne.  Oznacza to, że oceny najbardziej pozytywne i najbardziej negatywne zostały uzyskane przez podobną liczbę klientów.               \n",
    "**6. Największy zysk przynoszą klienci**, którzy uzyskali najbardziej pozytywną ocenę w analizie RFM (rys. 6)          \n",
    "**7. Analiza wykazała, że największy odsetek klientów** to klienci w hibernacji. Na drugim miejscu są klienci: lojalni, najlepsi i wymagający uwagi.    \n",
    "**8. Najczęstsze produkty kupowane przez wszystkich klientów to:**  książki, sztuka oraz produkty z promocji (\"Occasion\"). Dodatkowo \"najlepsi klienci\", czyli następujące grupy: lojalni i najlepsi otrzymują gratisy.            \n",
    "**9. Po zaklasyfikowaniu klientów widać, że:** najwięcej klientów znajduje się w Nowym Jorku, i stanowią oni ok. 7% dla każdej z grup.   \n",
    "\n",
    "\n",
    "**Porównując lata 2014-2016**: \n",
    "* Do 2015 roku klienci najlepiej wypadli pod względem wskaźnika Recency, ponieważ 20% klientów dokonało ostatniego zakupu w ciągu ostatnich 174 dni, zaś wartość ta na wykresie do roku 2016 jest najgorsza, ponieważ 20% klientów dokonało ostatniego zakupu w ciągu ostatnich 380 dni.\n",
    "\n",
    "* Wskaźnik Frequency jest najlepszy do roku 2015, zaś najgorszy jest do roku 2016.\n",
    "\n",
    "* Wskaźnik Monetary jest podobny w każdym z podanych lat.\n",
    "\n",
    "**Na wykresie (Rys.12)** widoczne są migracje klientów, które pokazują, że liczba klientów uśpionych wzrasta. Odsetek potencjalnie najlepszych klientów zmienia się względem lat, nie jest stały (rośnie i maleje). Liczba klientów zagrożonych wzrasta.\n",
    "\n",
    "    \n",
    "\n",
    "\n",
    "\n",
    "\n",
    "\n"
   ]
  }
 ],
 "metadata": {
  "kernelspec": {
   "display_name": "Python 3",
   "language": "python",
   "name": "python3"
  },
  "language_info": {
   "codemirror_mode": {
    "name": "ipython",
    "version": 3
   },
   "file_extension": ".py",
   "mimetype": "text/x-python",
   "name": "python",
   "nbconvert_exporter": "python",
   "pygments_lexer": "ipython3",
   "version": "3.7.3"
  }
 },
 "nbformat": 4,
 "nbformat_minor": 2
}
